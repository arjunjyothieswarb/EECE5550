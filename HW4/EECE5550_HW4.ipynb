{
  "cells": [
    {
      "cell_type": "markdown",
      "metadata": {
        "id": "view-in-github",
        "colab_type": "text"
      },
      "source": [
        "<a href=\"https://colab.research.google.com/github/arjunjyothieswarb/EECE5550/blob/main/HW4/EECE5550_HW4.ipynb\" target=\"_parent\"><img src=\"https://colab.research.google.com/assets/colab-badge.svg\" alt=\"Open In Colab\"/></a>"
      ]
    },
    {
      "cell_type": "markdown",
      "source": [
        "# HW4: Mapping & Localization\n",
        "\n",
        "## EECE 5550: Mobile Robotics (Spring 2024)"
      ],
      "metadata": {
        "id": "I0dAV0uFEb-R"
      }
    },
    {
      "cell_type": "markdown",
      "metadata": {
        "id": "24gMxVX7yaLr"
      },
      "source": [
        "**Collaboration Statement:**"
      ]
    },
    {
      "cell_type": "code",
      "execution_count": 1,
      "metadata": {
        "id": "QXaBB3IJyxcb"
      },
      "outputs": [],
      "source": [
        "# Fill this in per the syllabus, or we will assign a zero to this assignment."
      ]
    },
    {
      "cell_type": "markdown",
      "metadata": {
        "id": "l5Q-SupywN0g"
      },
      "source": [
        "# Installation"
      ]
    },
    {
      "cell_type": "markdown",
      "metadata": {
        "id": "OaX3MKJZiWb3"
      },
      "source": [
        "This semester, we will use a custom simulator, called `gym-neu-racing`, to develop navigation algorithms. We implemented the basic structure of this simulator for you, and the HW assignments will ask you to implement important functions (e.g., kinematics, sensing, planning, mapping).\n",
        "\n",
        "To install the simulator, you can use this command (it will download the latest code from GitLab and automatically install it in the environment your Colab notebook runs in):"
      ]
    },
    {
      "cell_type": "code",
      "execution_count": 2,
      "metadata": {
        "id": "W1a17fpJ9ONw",
        "colab": {
          "base_uri": "https://localhost:8080/"
        },
        "outputId": "23b6caee-eb36-4630-ffa1-65016833f717"
      },
      "outputs": [
        {
          "output_type": "stream",
          "name": "stdout",
          "text": [
            "Collecting git+https://gitlab.com/neu-autonomy/gym-neu-racing.git@hw4\n",
            "  Cloning https://gitlab.com/neu-autonomy/gym-neu-racing.git (to revision hw4) to /tmp/pip-req-build-ht89wzbm\n",
            "  Running command git clone --filter=blob:none --quiet https://gitlab.com/neu-autonomy/gym-neu-racing.git /tmp/pip-req-build-ht89wzbm\n",
            "  Running command git checkout -b hw4 --track origin/hw4\n",
            "  Switched to a new branch 'hw4'\n",
            "  Branch 'hw4' set up to track remote branch 'hw4' from 'origin'.\n",
            "  Resolved https://gitlab.com/neu-autonomy/gym-neu-racing.git to commit 895b1589bc8b7d4a9ae65b109a485081583ee5cd\n",
            "  Preparing metadata (setup.py) ... \u001b[?25l\u001b[?25hdone\n",
            "Collecting gymnasium>=0.26.1 (from gym-neu-racing==0.0.1)\n",
            "  Downloading gymnasium-0.29.1-py3-none-any.whl (953 kB)\n",
            "\u001b[2K     \u001b[90m━━━━━━━━━━━━━━━━━━━━━━━━━━━━━━━━━━━━━━━━\u001b[0m \u001b[32m953.9/953.9 kB\u001b[0m \u001b[31m7.3 MB/s\u001b[0m eta \u001b[36m0:00:00\u001b[0m\n",
            "\u001b[?25hRequirement already satisfied: numpy in /usr/local/lib/python3.10/dist-packages (from gym-neu-racing==0.0.1) (1.25.2)\n",
            "Collecting mypy (from gym-neu-racing==0.0.1)\n",
            "  Downloading mypy-1.9.0-cp310-cp310-manylinux_2_17_x86_64.manylinux2014_x86_64.whl (12.5 MB)\n",
            "\u001b[2K     \u001b[90m━━━━━━━━━━━━━━━━━━━━━━━━━━━━━━━━━━━━━━━━\u001b[0m \u001b[32m12.5/12.5 MB\u001b[0m \u001b[31m20.3 MB/s\u001b[0m eta \u001b[36m0:00:00\u001b[0m\n",
            "\u001b[?25hRequirement already satisfied: cloudpickle>=1.2.0 in /usr/local/lib/python3.10/dist-packages (from gymnasium>=0.26.1->gym-neu-racing==0.0.1) (2.2.1)\n",
            "Requirement already satisfied: typing-extensions>=4.3.0 in /usr/local/lib/python3.10/dist-packages (from gymnasium>=0.26.1->gym-neu-racing==0.0.1) (4.10.0)\n",
            "Collecting farama-notifications>=0.0.1 (from gymnasium>=0.26.1->gym-neu-racing==0.0.1)\n",
            "  Downloading Farama_Notifications-0.0.4-py3-none-any.whl (2.5 kB)\n",
            "Collecting mypy-extensions>=1.0.0 (from mypy->gym-neu-racing==0.0.1)\n",
            "  Downloading mypy_extensions-1.0.0-py3-none-any.whl (4.7 kB)\n",
            "Requirement already satisfied: tomli>=1.1.0 in /usr/local/lib/python3.10/dist-packages (from mypy->gym-neu-racing==0.0.1) (2.0.1)\n",
            "Building wheels for collected packages: gym-neu-racing\n",
            "  Building wheel for gym-neu-racing (setup.py) ... \u001b[?25l\u001b[?25hdone\n",
            "  Created wheel for gym-neu-racing: filename=gym_neu_racing-0.0.1-py3-none-any.whl size=66880 sha256=9882e7b0e729a6e60a1d416fdd125d6c822957fbebae6e061d3634f8270b5356\n",
            "  Stored in directory: /tmp/pip-ephem-wheel-cache-qvy9peoi/wheels/58/0e/5d/d48d3ec66d1aa09b03520c684cb531c83b84589fe57ae45251\n",
            "Successfully built gym-neu-racing\n",
            "Installing collected packages: farama-notifications, mypy-extensions, gymnasium, mypy, gym-neu-racing\n",
            "Successfully installed farama-notifications-0.0.4 gym-neu-racing-0.0.1 gymnasium-0.29.1 mypy-1.9.0 mypy-extensions-1.0.0\n"
          ]
        }
      ],
      "source": [
        "!pip install git+https://gitlab.com/neu-autonomy/gym-neu-racing.git@hw4"
      ]
    },
    {
      "cell_type": "markdown",
      "metadata": {
        "id": "U528T-DbjK3L"
      },
      "source": [
        "Now that the simulator and its dependencies have been installed, you can import the modules you'll need for this assignment:"
      ]
    },
    {
      "cell_type": "code",
      "execution_count": 3,
      "metadata": {
        "id": "ylskOzCW-VEt"
      },
      "outputs": [],
      "source": [
        "import gymnasium\n",
        "import numpy as np\n",
        "import gym_neu_racing\n",
        "from gymnasium import spaces\n",
        "from gym_neu_racing.envs.wrappers import StateFeedbackWrapper, MappingWrapper\n",
        "import matplotlib.pyplot as plt\n",
        "from typing import Callable\n",
        "import matplotlib.cm as cmx\n",
        "import matplotlib.colors as colors\n",
        "from gym_neu_racing import motion_models\n",
        "from gym_neu_racing import sensor_models\n",
        "from gym_neu_racing.sensor_models.sensor_model import SensorModel\n",
        "from gym_neu_racing.envs.map import Map\n",
        "from skimage.draw import line\n",
        "from gym_neu_racing.sensor_models import Lidar2D\n",
        "from scipy.linalg import expm"
      ]
    },
    {
      "cell_type": "markdown",
      "metadata": {
        "id": "U_H4vC_UjVh9"
      },
      "source": [
        "You can create an instance of the simulator that you'll build on throughout the assignment:"
      ]
    },
    {
      "cell_type": "markdown",
      "metadata": {
        "id": "TKUvYLxpv2p4"
      },
      "source": [
        "# Problem 1: Localization (estimating robot pose in a known map)"
      ]
    },
    {
      "cell_type": "markdown",
      "metadata": {
        "id": "oHr3pCDajeQr"
      },
      "source": [
        "## 1a) Particle Filter: Propagation Step"
      ]
    },
    {
      "cell_type": "markdown",
      "metadata": {
        "id": "rSN_vAxgrB7p"
      },
      "source": [
        "In localization, your job is to estimate the robot's pose over time given sensor data and control inputs. This problem will have you implement a particle filter, which is a powerful approximation of the Bayes filter for systems with highly nonlinear motion/measurement models. We'll assume a differential drive robot (which has a left and right wheel, each of radius $r$ m, spaced $w$ m apart).\n",
        "\n",
        "To initialize the particle filter, you should create a number of particles at the origin with zero rotation. In particular, you should represent these particles as transformation matrices, i.e., elements of $SE(2)$, so every particle can start at $I_{3 \\times 3}$.\n",
        "\n",
        "For this first part, you can focus on the propagation step. At each propagation step, you'll get a left and right wheel angular speed measurement in rad/s, which you should use to update `self.particles` using the motion model.\n",
        "\n",
        "The state propagation step of the particle filter requires a procedure for sampling from the motion model $p(x_{t+1} | x_t, u_t)$.  Recall from our lecture on robot modeling that differential drive robots are actuated by controlling the velocities $(\\dot{\\varphi}_l, \\dot{\\varphi}_r)$ of their left and right wheel speeds.\n",
        "\n",
        "Suppose that we can only control the wheel speeds of our robot imprecisely; that is, the *true* left and right wheel speeds $(\\tilde{\\varphi}_l, \\tilde{\\varphi}_r)$ are related to the *measured* wheel speeds $u \\triangleq  (\\dot{\\varphi}_l, \\dot{\\varphi}_r)$ according to:\n",
        "\n",
        "$$\n",
        "\\tilde{\\varphi}_l = \\dot{\\varphi}_l + \\epsilon_l, \\quad \\epsilon_l \\sim N(0, \\sigma_l^2) \\\\\n",
        "\\tilde{\\varphi}_r = \\dot{\\varphi}_r + \\epsilon_r, \\quad \\epsilon_r \\sim N(0, \\sigma_r^2)\n",
        "$$\n",
        "\n",
        "Using these expressions, you should come up with a generative description (i.e., a list of steps that provide you with samples from) for the motion model $p(x_{t_2} | x_{t_1}, \\dot{\\varphi}_l, \\dot{\\varphi}_r, r, w, \\sigma_l, \\sigma_r)$ that parameterizes the distribution of the pose of the robot $x_{t_2} \\in SE(2)$ at time $t_2$ as a function of its pose $x_{t_1} \\in SE(2)$ at time $t_1$ given the *measured* wheel speeds $(\\dot{\\varphi}_l, \\dot{\\varphi}_r)$, its wheel radius $r$ and track width $w$, and the variances $\\sigma_l$ and $\\sigma_r$ for the true wheel speeds.\n",
        "\n",
        "For the noiseless case, we have derived the following expressions for you. Your job is to extend these to the noisy case above. The robot's velocity, $\\dot{\\Omega}$, at $I \\in SE(2)$ as a function of the wheel speeds is\n",
        "$$\n",
        "\\dot{\\Omega} \\colon R^2 \\to Lie(SE(2)) \\\\\n",
        "\\dot{\\Omega}(\\dot{\\varphi}_l, \\dot{\\varphi}_r) =\n",
        "\\begin{pmatrix}\n",
        "0 & -\\frac{r}{w}(\\dot{\\varphi}_r - \\dot{\\varphi}_l) & \\frac{r}{2}(\\dot{\\varphi}_r + \\dot{\\varphi}_l) \\\\\n",
        "\\frac{r}{w}(\\dot{\\varphi}_r - \\dot{\\varphi}_l) & 0 & 0 \\\\\n",
        "0 & 0 & 0\n",
        "\\end{pmatrix},\n",
        "$$\n",
        "and the robot's trajectory $X(t)$ is the *integral curve* that starts at the pose $X_0 \\in SE(2)$ at time $t = 0$,\n",
        "$$\n",
        "X(t) = X_0 \\exp\\left(t\\dot{\\Omega}(\\dot{\\varphi}_l, \\dot{\\varphi}_r)\\right).\n",
        "$$\n",
        "Note that this $\\exp$ is the matrix exponential (e.g., `scipy.linalg.expm`).\n",
        "\n",
        "**Deliverables**:\n",
        "- Implement the `ParticleFilter.step` method with the particle filter propagation step for a differential-drive ground robot.  Your function will take in the measured wheel speeds, `wheel_speeds`=$(\\dot{\\varphi}_l, \\dot{\\varphi}_r)$, and use the parameters `self.dt`, `self.r`, `self.w`, `self.sigma_l`, and `self.sigma_r` to update `self.particles` from a particle set $X_{t} = \\lbrace x_{t}^{[i]} \\rbrace_{i = 1}^n \\subset SE(2)$ describing the robot's belief over its position at time $t$ to a particle set $X_{t+dt} = \\lbrace x_{t+dt}^{[i]} \\rbrace_{i = 1}^n \\subset SE(2)$ describing the robot's belief over its pose at time $t+dt$, sampled according to the generative model provided above.\n",
        "- Provide a plot with the position of your particles after each propagation step and the resulting position estimate (mean of all of your particle positions)."
      ]
    },
    {
      "cell_type": "code",
      "source": [
        "import jax.numpy as jnp\n",
        "from jax import vmap\n",
        "from jax import random\n",
        "from jax import jit\n",
        "from jax import scipy\n",
        "\n",
        "class ParticleFilter:\n",
        "    def __init__(\n",
        "        self,\n",
        "        map=None,\n",
        "        num_particles=5,\n",
        "        sigma_l=0.05,\n",
        "        sigma_r=0.05,\n",
        "        sigma_p=0.10,\n",
        "        r=0.25,\n",
        "        w=0.5,\n",
        "        dt=0.1,\n",
        "    ):\n",
        "        self.num_particles = num_particles\n",
        "        # self.num_particles = 5                    # Don't forget to change this!!!\n",
        "        self.sigma_l = sigma_l\n",
        "        self.sigma_r = sigma_r\n",
        "        self.sigma_p = sigma_p\n",
        "        self.r = r\n",
        "        self.w = w\n",
        "        self.dt = dt\n",
        "        self.map = map\n",
        "\n",
        "        self.particles = np.tile(np.eye(3), (self.num_particles, 1, 1))\n",
        "\n",
        "        self.sigma_inv = np.linalg.inv(\n",
        "            np.diag([self.sigma_p**2, self.sigma_p**2])\n",
        "        )\n",
        "\n",
        "        get_change_mat_v = vmap(self.get_change_matrix)\n",
        "        self.get_change_mat_jit = jit(get_change_mat_v)\n",
        "\n",
        "        get_prob_v = vmap(self.get_prob,(None,0))\n",
        "        self.get_prob_jit = jit(get_prob_v)\n",
        "\n",
        "        # self.resample_v = vmap(self.resample,((None,1)))\n",
        "        # self.resample_jit = jit(resample_v)\n",
        "        self.resample_v = np.vectorize(self.resample,excluded=[0])\n",
        "\n",
        "\n",
        "    def get_pos_mean_and_cov(self) -> tuple[np.ndarray, np.ndarray]:\n",
        "        \"\"\"Extract mean/cov of position over all particles.\"\"\"\n",
        "        positions = self.particles[:, 0:2, 2]\n",
        "        pos_mean = np.mean(positions, axis=0)\n",
        "        pos_cov = np.cov(positions[:, 0], positions[:, 1])\n",
        "        return pos_mean, pos_cov\n",
        "\n",
        "    def step(self, obs: dict) -> np.ndarray:\n",
        "        propagated_particles = self.propagate(obs[\"wheel_speeds\"])\n",
        "        updated_particles = self.update(propagated_particles)\n",
        "        return updated_particles\n",
        "\n",
        "    def get_noisy_inputs(self,wheel_speeds):\n",
        "        noisy_inputs = jnp.array([np.random.normal(wheel_speeds[0],self.sigma_l,self.num_particles),np.random.normal(wheel_speeds[1],self.sigma_r,self.num_particles)])\n",
        "        noisy_inputs = jnp.transpose(noisy_inputs)\n",
        "        return noisy_inputs\n",
        "\n",
        "    def get_change_matrix(self, wheel_speeds):\n",
        "\n",
        "        # Function to get the delta matrix\n",
        "        w = self.w\n",
        "        r = self.r\n",
        "\n",
        "        # Velocity matrix\n",
        "        vel = jnp.array([\n",
        "            [                                      0, -r*(wheel_speeds[1] - wheel_speeds[0])/w, r*(wheel_speeds[1] + wheel_speeds[0])/2],\n",
        "            [r*(wheel_speeds[1] - wheel_speeds[0])/w,                                        0,                                       0],\n",
        "            [                                      0,                                        0,                                       0]\n",
        "        ])\n",
        "        return vel * self.dt\n",
        "\n",
        "    def propagate(self, wheel_speeds):\n",
        "        \"\"\"Propagate particles forward on a motion model.\"\"\"\n",
        "\n",
        "        noisy_inputs = self.get_noisy_inputs(wheel_speeds)    # Adding noise to the inputs\n",
        "        delta_mat = self.get_change_mat_jit(noisy_inputs)     # Getting the difference matrix\n",
        "\n",
        "        # Updating the particles\n",
        "        self.particles = jnp.matmul(self.particles[:], scipy.linalg.expm(delta_mat[:]))\n",
        "\n",
        "        # raise NotImplementedError\n",
        "\n",
        "        return self.particles.copy()\n",
        "\n",
        "    def get_prob(self, observation, pos):\n",
        "        diff = observation - pos\n",
        "        val = jnp.matmul(self.sigma_inv, jnp.transpose(diff))\n",
        "        val = jnp.matmul(diff,val)\n",
        "        prob = jnp.exp(-val/2)/jnp.sqrt(2*jnp.pi*(self.sigma_p ** 2))\n",
        "        return prob\n",
        "\n",
        "    # def resample(self, strip, N):\n",
        "\n",
        "    #     low = 0\n",
        "    #     high = len(strip) - 1\n",
        "\n",
        "    #     # mid = (high + low) // 2\n",
        "\n",
        "    #     while(low <= high):\n",
        "    #         mid = (high + low) // 2\n",
        "    #         if strip[mid] > N:\n",
        "    #             high = mid - 1\n",
        "    #         elif strip[mid] < N:\n",
        "    #             low = mid + 1\n",
        "\n",
        "    #     return np.array(self.particles[mid])\n",
        "\n",
        "\n",
        "    def resample(self, strip, N):\n",
        "        result = []\n",
        "        for i in range(len(N)):\n",
        "            low = 0\n",
        "            high = len(strip) - 1\n",
        "            while low <= high:\n",
        "                mid = (high + low) // 2\n",
        "                if strip[mid] >= N[i]:\n",
        "                    if mid == 0 or strip[mid - 1] < N[i]:\n",
        "                        result.append(self.particles[mid])\n",
        "                        break\n",
        "                    else:\n",
        "                        high = mid - 1\n",
        "                else:\n",
        "                    low = mid + 1\n",
        "        return np.array(result)\n",
        "\n",
        "    def update(self, observation) -> np.ndarray:\n",
        "        \"\"\"Re-sample particles based on an incoming measurement.\"\"\"\n",
        "\n",
        "        observation = jnp.array(observation)\n",
        "        X = jnp.array(self.particles[:,0:2,2])\n",
        "\n",
        "        # Getting the weights of each particle\n",
        "        weights = self.get_prob_jit(observation, X)\n",
        "\n",
        "        # Normalizing the weights\n",
        "        weights = weights/jnp.sum(weights)\n",
        "        weight_factor = 1000\n",
        "        weights = weight_factor * weights\n",
        "\n",
        "        weights_cum = jnp.cumsum(weights)\n",
        "\n",
        "        N = np.random.randint(weights_cum[-1], size=(1,self.num_particles))\n",
        "        # print(\"N: \",N)\n",
        "\n",
        "        # print(\"Weights:\\n\")\n",
        "        # print(weights_cum)\n",
        "        # print(\"/nRandom Variables: \\n\")\n",
        "        # print(N[0])\n",
        "\n",
        "        self.particles = self.resample(np.array(weights_cum), N[0])\n",
        "        # print(particles_2)\n",
        "\n",
        "        # you should modify self.particles here!\n",
        "        # raise NotImplementedError\n",
        "\n",
        "        return self.particles.copy()"
      ],
      "metadata": {
        "id": "-lrtC1ObqZFJ"
      },
      "execution_count": 47,
      "outputs": []
    },
    {
      "cell_type": "markdown",
      "source": [
        "### Dead reckoning test"
      ],
      "metadata": {
        "id": "-LrGfKcXABmx"
      }
    },
    {
      "cell_type": "markdown",
      "metadata": {
        "id": "z7KCd76vpd7O"
      },
      "source": [
        "The following code will enable you to test your particle filter for *dead reckoning*, which is the process of propagating your motion model/odometry without using any external measurement (e.g., lidar, GPS, camera). By default, the robot will start at the origin, and drive at a constant $(v_x, \\omega)$, so its true state should trace out a circle. But, since your particle filter accounts for potential noise in each wheel speed measurement, the uncertainty in your state estimate (i.e., belief of the robot's pose) will grow."
      ]
    },
    {
      "cell_type": "code",
      "source": [
        "def run_dead_reckoning(env, robot_radius, robot_wheel_spacing, action, num_particles, dt):\n",
        "\n",
        "    # wheel speed sensor is only sensor that simulator should model here\n",
        "    env.unwrapped.sensor_models = {\n",
        "        \"wheel_speeds\": sensor_models.WheelSpeedSensor(\n",
        "            r=robot_radius, w=robot_wheel_spacing\n",
        "        ),\n",
        "    }\n",
        "    env.unwrapped.dt = dt\n",
        "\n",
        "    # set up environment\n",
        "    np.random.seed(0)\n",
        "    obs, _ = env.reset()\n",
        "    env.unwrapped.state = np.array([0.0, 0.0, 0.0])\n",
        "    env.unwrapped.action = action\n",
        "    obs = env.unwrapped._get_obs()  # pylint:disable=protected-access\n",
        "    print(env.unwrapped.action)\n",
        "    localizer = ParticleFilter(\n",
        "        dt=dt,\n",
        "        num_particles=num_particles,\n",
        "        r=robot_radius,\n",
        "        w=robot_wheel_spacing,\n",
        "    )\n",
        "\n",
        "    for t in np.arange(start=0, stop=20., step=dt):\n",
        "\n",
        "        # propagate particles every dt seconds using wheel speed measurements\n",
        "        localizer.propagate(obs[\"wheel_speeds\"])\n",
        "        pos_mean, pos_cov = localizer.get_pos_mean_and_cov()\n",
        "        obs, _, _, _, _ = env.step(action)\n",
        "\n",
        "        # visualize positions of particles every dt seconds\n",
        "        particles = localizer.particles.copy()\n",
        "        plt.plot(particles[:, 0, 2], particles[:, 1, 2], \".\", label=\"PF Particles\")\n",
        "        plt.plot(pos_mean[0], pos_mean[1], \"x\", c=\"k\", label=\"PF Pose Estimate\")\n",
        "        plt.plot(\n",
        "          env.unwrapped.state[0], env.unwrapped.state[1], \"*\", c=\"pink\", label=\"True Position\"\n",
        "        )\n",
        "\n",
        "        print(f\"Time: {t}\")\n",
        "        print(f\"Position Estimate Mean:\\n {pos_mean}\")\n",
        "        print(f\"Position Estimate Covariance:\\n {pos_cov}\")\n",
        "        print(f\"True Position:\")\n",
        "        print(env.unwrapped.state[0], env.unwrapped.state[1])\n",
        "        print(\"--\")\n",
        "\n",
        "    handles, labels = plt.gca().get_legend_handles_labels()\n",
        "    by_label = dict(zip(labels, handles))\n",
        "    plt.legend(by_label.values(), by_label.keys())\n",
        "    plt.show()\n",
        "\n",
        "env = gymnasium.make(\"gym_neu_racing/NEUEmptyWorld-v0\")\n",
        "robot_radius = 0.25\n",
        "robot_wheel_spacing = 0.5\n",
        "action = np.array([0.4375, 0.25])\n",
        "num_particles = 1000\n",
        "dt = 5.0\n",
        "run_dead_reckoning(env, robot_radius, robot_wheel_spacing, action, num_particles, dt)"
      ],
      "metadata": {
        "id": "5aJ-unZM-ZUq",
        "colab": {
          "base_uri": "https://localhost:8080/",
          "height": 1000
        },
        "outputId": "3507464b-b48a-4093-9992-042b9574405c"
      },
      "execution_count": 39,
      "outputs": [
        {
          "output_type": "stream",
          "name": "stdout",
          "text": [
            "[0.4375 0.25  ]\n",
            "Time: 0.0\n",
            "Position Estimate Mean:\n",
            " [1.6447226 1.1963834]\n",
            "Position Estimate Covariance:\n",
            " [[ 0.02001011 -0.01583613]\n",
            " [-0.01583613  0.0155494 ]]\n",
            "True Position:\n",
            "2.1875 0.0\n",
            "--\n",
            "Time: 5.0\n",
            "Position Estimate Mean:\n",
            " [1.0291086 3.1025994]\n",
            "Position Estimate Covariance:\n",
            " [[0.25964732 0.01100039]\n",
            " [0.01100039 0.01402823]]\n",
            "True Position:\n",
            "2.87726766773965 2.075903854840345\n",
            "--\n",
            "Time: 10.0\n",
            "Position Estimate Mean:\n",
            " [-0.94536066  3.1247654 ]\n",
            "Position Estimate Covariance:\n",
            " [[0.28305062 0.2354261 ]\n",
            " [0.2354261  0.35750595]]\n",
            "True Position:\n",
            "1.1247660087307325 3.38506167006775\n",
            "--\n",
            "Time: 15.0\n",
            "Position Estimate Mean:\n",
            " [-1.5875511  1.2854724]\n",
            "Position Estimate Covariance:\n",
            " [[ 0.23253924 -0.09569986]\n",
            " [-0.09569986  0.62928783]]\n",
            "True Position:\n",
            "-0.6702075854495566 2.134771285318873\n",
            "--\n"
          ]
        },
        {
          "output_type": "display_data",
          "data": {
            "text/plain": [
              "<Figure size 640x480 with 1 Axes>"
            ],
            "image/png": "[encoded data removed]"
          },
          "metadata": {}
        }
      ]
    },
    {
      "cell_type": "markdown",
      "source": [
        "## 1b) Particle Filter: GPS Measurement Updates"
      ],
      "metadata": {
        "id": "28kMd8ga7w6-"
      }
    },
    {
      "cell_type": "markdown",
      "source": [
        "Similarly, the measurement update step of the particle filter requires a procedure for evaluating the measurement likelihood function $p(z_t | x_t)$.\n",
        "\n",
        "Suppose that our robot is equipped with a sensor that is capable of producing a noisy measurements of its position in the plane (for example, a GPS receiver).  Specifically, the measurement $z_t \\in R^2$ at time $t$ is related to the robot's pose $x_t \\triangleq (l_t, R_t) \\in SE(2)$ at time $t$ according to:\n",
        "\n",
        "$$\n",
        "z_t = l_t + \\epsilon_p, \\quad \\epsilon_p \\sim N(0, \\sigma_p^2 I_2).\n",
        "$$\n",
        "\n",
        "In this part, you will first derive a closed-form expression (i.e., PDF) for the measurement likelihood function $p(z_t | x_t)$ under this measurement model. Then, you will use this PDF to write a function that implements the particle filter update step.\n",
        "\n",
        "To make this somewhat realistic, you should propagate your particles using wheel speed measurements every 0.1 seconds and you should update your particles using GPS measurements every 5 seconds. We provide you with function `run_particle_filter_with_gps` to implement this timing.\n",
        "\n",
        "**Deliverables**:\n",
        "- Implement the `ParticleFilter.update` method above to incorporate position measurements (e.g., from a noisy GPS reading). Your function should accept as input a noisy position $z_t$ measurement sampled according to the generative model, and can use the magnitude $\\sigma_p$ of the measurement noise (`self.sigma_p`) to update the `self.particles` from the particle set $X_{t} = \\lbrace x_{t}^{[i]} \\rbrace_{i = 1}^n \\subset SE(2)$ representing its prior belief over its pose to the particle set $\\bar{X}_{t} = \\lbrace x_{t}^{[i]} \\rbrace_{i = 1}^n \\subset SE(2)$ modeling the robot's *posterior* belief after incorporating the measurement $z_t$.\n",
        "- Provide a plot with the position of your particles after each GPS measurement update, along with the GPS measurement itself and the resulting position estimate (mean of all of your particle positions)."
      ],
      "metadata": {
        "id": "6m0ZM5UU77HU"
      }
    },
    {
      "cell_type": "code",
      "source": [
        "def run_particle_filter_with_gps(env, robot_radius, robot_wheel_spacing, action, num_particles, dt, gps_freq):\n",
        "\n",
        "    # simulator should model a wheel speed sensor and GPS at each timestep\n",
        "    env.unwrapped.sensor_models = {\n",
        "        \"wheel_speeds\": sensor_models.WheelSpeedSensor(\n",
        "            r=robot_radius, w=robot_wheel_spacing\n",
        "        ),\n",
        "        \"gps\": sensor_models.GPS(gps_variance=0.5**2),\n",
        "    }\n",
        "    env.unwrapped.dt = dt\n",
        "\n",
        "    # initialize the system at the origin\n",
        "    np.random.seed(0)\n",
        "    obs, _ = env.reset()\n",
        "    env.unwrapped.state = np.array([0.0, 0.0, 0.0])\n",
        "    env.unwrapped.action = action\n",
        "    obs = env.unwrapped._get_obs()  # pylint:disable=protected-access\n",
        "\n",
        "    localizer = ParticleFilter(\n",
        "        dt=dt,\n",
        "        num_particles=num_particles,\n",
        "        r=robot_radius,\n",
        "        w=robot_wheel_spacing,\n",
        "    )\n",
        "\n",
        "    for t in np.arange(start=0, stop=20.1, step=dt):\n",
        "        obs, _, _, _, _ = env.step(action)\n",
        "\n",
        "        # propagate the particles every dt seconds with the current wheel speeds\n",
        "        localizer.propagate(obs[\"wheel_speeds\"])\n",
        "\n",
        "        # update the particles every gps_freq seconds with the current GPS measurement\n",
        "        if (t % gps_freq < 0.01 or t % gps_freq > gps_freq - 0.01) and t > 0:\n",
        "            localizer.update(obs[\"gps\"])\n",
        "            plt.plot(obs[\"gps\"][0], obs[\"gps\"][1], \"^\", c=\"cyan\", label=\"GPS Measurements\")\n",
        "            plt.plot(\n",
        "                env.unwrapped.state[0], env.unwrapped.state[1], \"*\", c=\"pink\", label=\"True Position\"\n",
        "            )\n",
        "\n",
        "            particles = localizer.particles\n",
        "            pos_mean, pos_cov = localizer.get_pos_mean_and_cov()\n",
        "            obs, _, _, _, _ = env.step(action)\n",
        "\n",
        "            plt.plot(\n",
        "                particles[:, 0, 2],\n",
        "                particles[:, 1, 2],\n",
        "                \".\",\n",
        "                zorder=0,\n",
        "                label=\"PF Particles\"\n",
        "            )\n",
        "            plt.plot(pos_mean[0], pos_mean[1], \"x\", c=\"k\", label=\"PF Mean Estimate\")\n",
        "\n",
        "            print(f\"Time: {t}\")\n",
        "            print(f\"Position Estimate Mean: {pos_mean}\")\n",
        "            print(f\"Position Estimate Covariance: {pos_cov}\")\n",
        "            print(\"--\")\n",
        "\n",
        "    handles, labels = plt.gca().get_legend_handles_labels()\n",
        "    by_label = dict(zip(labels, handles))\n",
        "    plt.legend(by_label.values(), by_label.keys())\n",
        "    plt.show()\n",
        "\n",
        "env = gymnasium.make(\"gym_neu_racing/NEUEmptyWorld-v0\")\n",
        "robot_radius = 0.25\n",
        "robot_wheel_spacing = 0.5\n",
        "action = np.array([0.4375, 0.25])\n",
        "num_particles = 1000\n",
        "dt = 0.1\n",
        "gps_freq = 5. # seconds between gps measurements\n",
        "run_particle_filter_with_gps(env, robot_radius, robot_wheel_spacing, action, num_particles, dt, gps_freq)"
      ],
      "metadata": {
        "id": "RNcLPC5C_2fJ",
        "colab": {
          "base_uri": "https://localhost:8080/",
          "height": 777
        },
        "outputId": "1427377f-9475-4050-f7c9-137e3320c076"
      },
      "execution_count": 48,
      "outputs": [
        {
          "output_type": "stream",
          "name": "stdout",
          "text": [
            "Time: 5.0\n",
            "Position Estimate Mean: [1.6615256 1.2493929]\n",
            "Position Estimate Covariance: [[ 0.00050848 -0.00041843]\n",
            " [-0.00041843  0.0004307 ]]\n",
            "--\n",
            "Time: 10.0\n",
            "Position Estimate Mean: [1.2236023 3.1881192]\n",
            "Position Estimate Covariance: [[0.00389076 0.00062029]\n",
            " [0.00062029 0.0002347 ]]\n",
            "--\n",
            "Time: 15.0\n",
            "Position Estimate Mean: [-0.8472861  3.3128734]\n",
            "Position Estimate Covariance: [[0.00404589 0.00321434]\n",
            " [0.00321434 0.00454316]]\n",
            "--\n",
            "Time: 20.0\n",
            "Position Estimate Mean: [-1.6610162  1.483051 ]\n",
            "Position Estimate Covariance: [[ 0.00333597 -0.00039775]\n",
            " [-0.00039775  0.00499891]]\n",
            "--\n"
          ]
        },
        {
          "output_type": "display_data",
          "data": {
            "text/plain": [
              "<Figure size 640x480 with 1 Axes>"
            ],
            "image/png": "[encoded data removed]"
          },
          "metadata": {}
        }
      ]
    },
    {
      "cell_type": "markdown",
      "source": [
        "## 1c) Monte Carlo Localization (Particle Filter with Lidar Measurement Updates)"
      ],
      "metadata": {
        "id": "JorifSBHB4kM"
      }
    },
    {
      "cell_type": "markdown",
      "source": [
        "While GPS measurements provide fairly direct information about the robot's current pose, GPS is not available in many applications (e.g., underground, underwater, on Mars). Therefore, in this part you'll extend your particle filter to incorporate lidar measurements and a known prior map. You can assume the map of the world is static (not changing over time).\n",
        "\n",
        "You can build on your ParticleFilter without re-writing the whole thing. Instead, you can work on `MCL`, a subclass of `ParticleFilter`, which overrides the `initialize_particles` and `update` methods.\n",
        "\n",
        "In `initialize_particles`, you could randomly distribute particles throughout the free space in the map, or other ideas to you come up with to get sufficient particle diversity.\n",
        "\n",
        "In `update`, you will weigh and re-sample the particles based on the latest lidar measurement and your map. One possible way to do this could be to query  `self.lidar_model.step([x,y,theta], None)` to get the *ideal* lidar reading from a particular particle, then estimate a likelihood of receiving the ranges you actually got (e.g., treating each beam's range as an independent random variable, each one sampled from a Gaussian centered at that beam's ideal range with some variance you can pick, `self.sigma_r`).\n",
        "\n",
        "Similar to 1b, you should propagate your `wheel_speeds` every 0.1 seconds and update your particles with a lidar measurement every 1 second.\n",
        "\n",
        "**Deliverables**:\n",
        "- Implement `MCL` to estimate the robot's state in the map using the wheel speed sensor measurements, lidar measurements, and knowledge of the true environment map.\n",
        "- Plot your particles at a few important timesteps to show that your algorithm  provides a meaningful estimate of the robot's true state"
      ],
      "metadata": {
        "id": "p7ZSDg_dB8eY"
      }
    },
    {
      "cell_type": "code",
      "source": [
        "class MCL(ParticleFilter):\n",
        "    def __init__(\n",
        "        self,\n",
        "        map=None,\n",
        "        num_particles=5,\n",
        "        sigma_l=0.05,\n",
        "        sigma_r=0.05,\n",
        "        sigma_lidar=0.10,\n",
        "        r=0.25,\n",
        "        w=0.5,\n",
        "        dt=0.1,\n",
        "    ):\n",
        "        super().__init__(\n",
        "            num_particles=num_particles,\n",
        "            sigma_l=sigma_l,\n",
        "            sigma_r=sigma_r,\n",
        "            r=r,\n",
        "            w=w,\n",
        "            dt=dt,\n",
        "        )\n",
        "        self.sigma_lidar = sigma_lidar\n",
        "        self.map = map\n",
        "\n",
        "        self.initialize_particles()\n",
        "\n",
        "        self.lidar_model = Lidar2D(map)\n",
        "\n",
        "    def initialize_particles(self) -> None:\n",
        "\n",
        "        # for example...\n",
        "        # - uniformly randomly sample (x,y) within [[-self.map.x_width / 2, -self.map.y_width / 2], [self.map.x_width / 2, self.map.y_width / 2]]\n",
        "        # - transform (x,y) point into map indices using self.map.world_coordinates_to_map_indices\n",
        "        # - check if that cell is free using self.map.static_map[...]\n",
        "        # - if free, randomly sample a heading angle theta\n",
        "        # - populate the SE(2) matrix corresponding to that (x, y, theta)\n",
        "        # - add that SE(2) matrix to self.particles\n",
        "        # --> self.particles should be a np array of shape (num_particles, 3, 3) after this function is done\n",
        "        raise NotImplementedError\n",
        "\n",
        "    def update(self, observation) -> np.ndarray:\n",
        "        \"\"\"Re-sample particles based on an incoming measurement.\"\"\"\n",
        "\n",
        "        # you should modify self.particles here!\n",
        "        raise NotImplementedError\n",
        "\n",
        "        return self.particles.copy()"
      ],
      "metadata": {
        "id": "8qbQYPAEDujy"
      },
      "execution_count": null,
      "outputs": []
    },
    {
      "cell_type": "code",
      "source": [
        "def run_monte_carlo_localization(env, robot_radius, robot_wheel_spacing, action, num_particles, dt, sigma_l, sigma_r, sigma_lidar, lidar_freq):\n",
        "\n",
        "    # environment will simulate wheel speed sensor and lidar sensor\n",
        "    env.unwrapped.sensor_models = {\n",
        "        \"wheel_speeds\": sensor_models.WheelSpeedSensor(\n",
        "            r=robot_radius, w=robot_wheel_spacing\n",
        "        ),\n",
        "        \"lidar\": sensor_models.Lidar2D(env.unwrapped.map),\n",
        "    }\n",
        "    env.unwrapped.dt = dt\n",
        "\n",
        "    # initialize the robot in a specific state to make experiments repeatable\n",
        "    np.random.seed(0)\n",
        "    obs, _ = env.reset()\n",
        "    env.unwrapped.state = np.array([0.5, -3.5, np.pi])\n",
        "    # env.unwrapped.state = np.array([-3.2, 0.0, np.pi / 2])\n",
        "    env.unwrapped.action = action\n",
        "    obs = env.unwrapped._get_obs()  # pylint:disable=protected-access\n",
        "\n",
        "    localizer = MCL(\n",
        "        dt=dt,\n",
        "        num_particles=num_particles,\n",
        "        r=robot_radius,\n",
        "        w=robot_wheel_spacing,\n",
        "        sigma_l=sigma_l,\n",
        "        sigma_r=sigma_r,\n",
        "        sigma_lidar=sigma_lidar,\n",
        "        map=env.unwrapped.map,\n",
        "    )\n",
        "\n",
        "    # draw map and overlay intial particle positions\n",
        "    ax = env.unwrapped.map.draw_map(show=False)\n",
        "    ax.plot(\n",
        "        localizer.particles[:, 0, 2], localizer.particles[:, 1, 2], \".\"\n",
        "    )\n",
        "    ax.plot(env.unwrapped.state[0], env.unwrapped.state[1], \"x\")\n",
        "    plt.show()\n",
        "\n",
        "    localizer.update(obs[\"lidar\"])\n",
        "    for t in np.arange(start=0, stop=2.1, step=dt):\n",
        "        obs, _, _, _, _ = env.step(action)\n",
        "\n",
        "        # every dt seconds, propagate particles using wheel speeds\n",
        "        localizer.propagate(obs[\"wheel_speeds\"])\n",
        "\n",
        "        # every lidar_freq seconds, update particles using lidar reading\n",
        "        if (t % lidar_freq < 0.01 or t % lidar_freq > lidar_freq - 0.01) and t > 0:\n",
        "            localizer.update(obs[\"lidar\"])\n",
        "\n",
        "        # draw map and overlay intial particle positions\n",
        "        ax = env.unwrapped.map.draw_map(show=False)\n",
        "        ax.plot(\n",
        "            localizer.particles[:, 0, 2], localizer.particles[:, 1, 2], \".\"\n",
        "        )\n",
        "\n",
        "        # plot true state - just for visualization, shouldn't use this info in your estimator ;)\n",
        "        ax.plot(env.unwrapped.state[0], env.unwrapped.state[1], \"x\")\n",
        "        plt.show()\n",
        "\n",
        "env = gymnasium.make(\"gym_neu_racing/NEURacing-v0\")\n",
        "robot_radius = 0.25\n",
        "robot_wheel_spacing = 0.5\n",
        "action = np.array([1.0, -0.25])\n",
        "num_particles = 1000\n",
        "dt = 0.1\n",
        "sigma_l = 0.5\n",
        "sigma_r = 0.5\n",
        "sigma_lidar = 1.0\n",
        "lidar_freq = 1.0\n",
        "run_monte_carlo_localization(env, robot_radius, robot_wheel_spacing, action, num_particles, dt, sigma_l, sigma_r, sigma_lidar, lidar_freq)"
      ],
      "metadata": {
        "id": "32Xk2BzgDw9T"
      },
      "execution_count": null,
      "outputs": []
    },
    {
      "cell_type": "markdown",
      "source": [
        "# Problem 2: Mapping (estimating map given known robot pose)"
      ],
      "metadata": {
        "id": "eBAqmReoEGke"
      }
    },
    {
      "cell_type": "markdown",
      "source": [
        "In lecture, we saw that we can keep track of the log-odds occupancy for each cell in a map, rather than the probability. This is because log-odds encodes the same information but enables us to use addition instead of multiplication in combining various terms. But, it's often more intuitive to define thresholds in probability values and return the estimated occupancy map using probabilities. To make this easy, we provide you with these methods that you're welcome to use in your implementation."
      ],
      "metadata": {
        "id": "CBDwUbyjC3YC"
      }
    },
    {
      "cell_type": "code",
      "source": [
        "def log_odds_to_prob(log_odds: np.ndarray) -> np.ndarray:\n",
        "    return 1 - 1 / (1 + np.exp(log_odds))\n",
        "\n",
        "def prob_to_log_odds(prob: np.ndarray) -> np.ndarray:\n",
        "    return np.log(prob / (1 - prob))"
      ],
      "metadata": {
        "id": "7_47PTxZEkH1"
      },
      "execution_count": null,
      "outputs": []
    },
    {
      "cell_type": "markdown",
      "source": [
        "## 2a) Mapping Algorithm"
      ],
      "metadata": {
        "id": "CGVW5LOLFoBj"
      }
    },
    {
      "cell_type": "markdown",
      "source": [
        "In this problem, you're given the robot's states and lidar readings and need to build an occupancy grid that captures your current estimate of the true environment map (which we'll assume is unavailable here, even though the simulator uses it to generate lidar measurements).\n",
        "\n",
        "We provide the structure of a `Mapper` class for you. Your main job is to implement the `step` method to update `self.log_odds_map`. The class is set up so calling `Mapper().probability_map` will automatically return an array with the probability of occupancy for each cell, based on that instance's current `self.map.log_odds_map` - we used Python properties to link these two variables automatically.\n",
        "\n",
        "As a rough sketch of how the `step` method could work (feel free to try other ways):\n",
        "- get the (x,y) coordinates of each lidar \"hit point\" and transform these into the world frame using `obs[\"state\"]` (you may want to ignore/handle lidar readings that go outside the map's boundaries or have the lidar's max range)\n",
        "- use `self.map.world_coordinates_to_map_indices(hit_pts_in_world_frame)` to get the map indices corresponding to those world frame coordinates\n",
        "- move along the cells between the robot and the lidar hit cell to \"clear\" cells up to the hit point, then \"fill\" the hit point. More specifically, since we're  making a probabilistic estimate of each cell's probability, you should update the `self.map.log_odds_map` using `self.log_odds_free`, `self.log_odds_occ`, and `self.log_odds_prior` as appropriate.\n",
        "\n",
        "**Deliverables**:\n",
        "- Implement `Mapper`, in particular the `step` method, to take in an `obs` containing the robot's state (in the world frame) and a lidar reading (`obs[\"state\"]` and `obs[\"lidar\"]`), and update `self.map.log_odds_map`.\n",
        "- What happens if you replace the lidar sensor that the simulator uses with `sensor_models.Lidar2DGaussian(env.unwrapped.map, range_variance=...)` ? Show us a couple maps for different values for different values of `range_variance`. How could you compensate for this lidar noise with your `Mapper`?"
      ],
      "metadata": {
        "id": "116HfqAhD6kk"
      }
    },
    {
      "cell_type": "code",
      "source": [
        "class Mapper:\n",
        "    def __init__(\n",
        "        self, p_free: float = 0.2, p_occ: float = 0.8, p_prior: float = 0.5\n",
        "    ):\n",
        "        self.map = Map(x_width=10, y_width=10, grid_cell_size=0.1)\n",
        "\n",
        "        # feel free to change the default values for p_free, p_occ, p_prior!\n",
        "        self.p_free = p_free\n",
        "        self.p_occ = p_occ\n",
        "        self.p_prior = p_prior\n",
        "        self.log_odds_free = prob_to_log_odds(p_free)\n",
        "        self.log_odds_occ = prob_to_log_odds(p_occ)\n",
        "        self.log_odds_prior = prob_to_log_odds(p_prior)\n",
        "\n",
        "        # initialize with P(occ) = 0.5 for all cells (unknown) -- feel free to change this!\n",
        "        self.map.log_odds_map = np.zeros(\n",
        "            self.map.static_map.shape, dtype=float\n",
        "        )\n",
        "\n",
        "    # If someone calls Mapper().probability_map, this method will run and convert\n",
        "    # the current `self.map.log_odds_map` to an array of probabilities per cell.\n",
        "    # You don't need to explicitly store `self.probability_map` and can just keep\n",
        "    # `self.log_odds_map` updated (\"properties\" are a useful Python concept).\n",
        "    @property\n",
        "    def probability_map(self):\n",
        "        return log_odds_to_prob(self.map.log_odds_map)\n",
        "\n",
        "    def step(self, obs):\n",
        "        \"\"\"Using current state & lidar, update esimated gridmap log-odds.\"\"\"\n",
        "\n",
        "        # update self.map.log_odds_map here!\n",
        "        raise NotImpelementedError\n",
        "\n",
        "        estimated_map = self.probability_map.copy()\n",
        "\n",
        "        return estimated_map"
      ],
      "metadata": {
        "id": "n-rB678P-NQ6"
      },
      "execution_count": null,
      "outputs": []
    },
    {
      "cell_type": "markdown",
      "source": [
        "You can debug your mapping algorithm with the following code, or any other way you design. You should increase `num_timesteps` so you can build a complete map of the environment, but keeping it small at first may help in debugging. You are also welcome to try having the system take different actions, but the code below is defined in a way where the robot should be able to do a full lap around the track."
      ],
      "metadata": {
        "id": "QKzT5vjXFuJn"
      }
    },
    {
      "cell_type": "code",
      "source": [
        "env = gymnasium.make(\"gym_neu_racing/NEURacing-v0\")\n",
        "env = MappingWrapper(env)\n",
        "\n",
        "# Initialize the environment (and set random seed so any randomness is repeatable)\n",
        "np.random.seed(0)\n",
        "\n",
        "# Tell the environment to use your new Lidar2D sensor\n",
        "env.unwrapped.sensor_models = {\n",
        "    \"state\": sensor_models.StateFeedback(),\n",
        "    \"lidar\": sensor_models.Lidar2D(env.unwrapped.map),\n",
        "}\n",
        "\n",
        "# Reset the environment and get the first observation (state + lidar)\n",
        "obs, _ = env.reset()\n",
        "\n",
        "# initialize the robot in a particular state (feel free to start from different places when testing your algorithm)\n",
        "env.unwrapped.state = np.array([0.5, -3.5, np.pi])\n",
        "obs[\"state\"] = env.unwrapped.state\n",
        "obs[\"lidar\"] = env.unwrapped.sensor_models[\"lidar\"].step(obs[\"state\"], None)\n",
        "\n",
        "mapper = Mapper()\n",
        "\n",
        "states = []\n",
        "\n",
        "# run the simulator & mapper for num_timesteps to build a complete map of the environment\n",
        "num_timsteps = 5\n",
        "for _ in range(num_timsteps):\n",
        "    estimated_map = mapper.step(obs)\n",
        "    action = np.array([1.0, -0.25])\n",
        "    obs, _, _, _, _ = env.step(action)\n",
        "\n",
        "    # keep track of the current state, just for visualization later\n",
        "    states.append(obs[\"state\"])\n",
        "\n",
        "# draw your best guess of the environment map along with your robot's trajectory\n",
        "mapper.map.static_map = estimated_map.copy()\n",
        "mapper.map.draw_map(show=False)\n",
        "plt.plot([state[0] for state in states], [state[1] for state in states], \"x\")\n",
        "plt.show()"
      ],
      "metadata": {
        "id": "MZAcvJGvEa33"
      },
      "execution_count": null,
      "outputs": []
    }
  ],
  "metadata": {
    "colab": {
      "collapsed_sections": [
        "l5Q-SupywN0g",
        "TKUvYLxpv2p4",
        "eBAqmReoEGke"
      ],
      "provenance": [],
      "include_colab_link": true
    },
    "kernelspec": {
      "display_name": "Python 3",
      "name": "python3"
    },
    "language_info": {
      "name": "python"
    }
  },
  "nbformat": 4,
  "nbformat_minor": 0
}