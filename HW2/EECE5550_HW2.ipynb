{
  "cells": [
    {
      "cell_type": "markdown",
      "metadata": {
        "id": "view-in-github",
        "colab_type": "text"
      },
      "source": [
        "<a href=\"https://colab.research.google.com/github/arjunjyothieswarb/EECE5550/blob/main/HW2/EECE5550_HW2.ipynb\" target=\"_parent\"><img src=\"https://colab.research.google.com/assets/colab-badge.svg\" alt=\"Open In Colab\"/></a>"
      ]
    },
    {
      "cell_type": "markdown",
      "metadata": {
        "id": "zkxjIur0iH-W"
      },
      "source": [
        "# HW2: Local Planning\n",
        "\n",
        "### EECE 5550: Mobile Robotics (Spring 2024)\n"
      ]
    },
    {
      "cell_type": "markdown",
      "metadata": {
        "id": "24gMxVX7yaLr"
      },
      "source": [
        "**Collaboration Statement:**"
      ]
    },
    {
      "cell_type": "code",
      "execution_count": 1,
      "metadata": {
        "id": "QXaBB3IJyxcb"
      },
      "outputs": [],
      "source": [
        "# Fill this in per the syllabus, or we will assign a zero to this assignment.\n",
        "# This assignment was completed by myself with the help of ChatGPT"
      ]
    },
    {
      "cell_type": "markdown",
      "metadata": {
        "id": "l5Q-SupywN0g"
      },
      "source": [
        "# Installation"
      ]
    },
    {
      "cell_type": "markdown",
      "metadata": {
        "id": "OaX3MKJZiWb3"
      },
      "source": [
        "This semester, we will use a custom simulator, called `gym-neu-racing`, to develop navigation algorithms. We implemented the basic structure of this simulator for you, and the HW assignments will ask you to implement important functions (e.g., kinematics, sensing, planning, mapping).\n",
        "\n",
        "To install the simulator, you can use this command (it will download the latest code from GitLab and automatically install it in the environment your Colab notebook runs in):"
      ]
    },
    {
      "cell_type": "code",
      "execution_count": 2,
      "metadata": {
        "id": "W1a17fpJ9ONw",
        "colab": {
          "base_uri": "https://localhost:8080/"
        },
        "outputId": "16d159ce-71db-4666-e3e6-f1bb6f7a4f1a"
      },
      "outputs": [
        {
          "output_type": "stream",
          "name": "stdout",
          "text": [
            "Collecting git+https://gitlab.com/neu-autonomy/gym-neu-racing.git\n",
            "  Cloning https://gitlab.com/neu-autonomy/gym-neu-racing.git to /tmp/pip-req-build-osq250ax\n",
            "  Running command git clone --filter=blob:none --quiet https://gitlab.com/neu-autonomy/gym-neu-racing.git /tmp/pip-req-build-osq250ax\n",
            "  Resolved https://gitlab.com/neu-autonomy/gym-neu-racing.git to commit accce6e955894ab920542ee00ef52e28a02b79ef\n",
            "  Preparing metadata (setup.py) ... \u001b[?25l\u001b[?25hdone\n",
            "Requirement already satisfied: gymnasium>=0.26.1 in /usr/local/lib/python3.10/dist-packages (from gym-neu-racing==0.0.1) (0.29.1)\n",
            "Requirement already satisfied: numpy in /usr/local/lib/python3.10/dist-packages (from gym-neu-racing==0.0.1) (1.23.5)\n",
            "Requirement already satisfied: mypy in /usr/local/lib/python3.10/dist-packages (from gym-neu-racing==0.0.1) (1.8.0)\n",
            "Requirement already satisfied: cloudpickle>=1.2.0 in /usr/local/lib/python3.10/dist-packages (from gymnasium>=0.26.1->gym-neu-racing==0.0.1) (2.2.1)\n",
            "Requirement already satisfied: typing-extensions>=4.3.0 in /usr/local/lib/python3.10/dist-packages (from gymnasium>=0.26.1->gym-neu-racing==0.0.1) (4.5.0)\n",
            "Requirement already satisfied: farama-notifications>=0.0.1 in /usr/local/lib/python3.10/dist-packages (from gymnasium>=0.26.1->gym-neu-racing==0.0.1) (0.0.4)\n",
            "Requirement already satisfied: mypy-extensions>=1.0.0 in /usr/local/lib/python3.10/dist-packages (from mypy->gym-neu-racing==0.0.1) (1.0.0)\n",
            "Requirement already satisfied: tomli>=1.1.0 in /usr/local/lib/python3.10/dist-packages (from mypy->gym-neu-racing==0.0.1) (2.0.1)\n"
          ]
        }
      ],
      "source": [
        "!pip install git+https://gitlab.com/neu-autonomy/gym-neu-racing.git"
      ]
    },
    {
      "cell_type": "markdown",
      "metadata": {
        "id": "U528T-DbjK3L"
      },
      "source": [
        "Now that the simulator and its dependencies have been installed, you can import the modules you'll need for this assignment:"
      ]
    },
    {
      "cell_type": "code",
      "execution_count": 3,
      "metadata": {
        "id": "ylskOzCW-VEt"
      },
      "outputs": [],
      "source": [
        "import gymnasium\n",
        "import numpy as np\n",
        "import gym_neu_racing\n",
        "from gymnasium import spaces\n",
        "from gym_neu_racing.envs.wrappers import StateFeedbackWrapper\n",
        "import matplotlib.pyplot as plt\n",
        "from typing import Callable\n",
        "import matplotlib.cm as cmx\n",
        "import matplotlib.colors as colors\n",
        "from gym_neu_racing import motion_models\n",
        "import cvxpy as cp"
      ]
    },
    {
      "cell_type": "markdown",
      "metadata": {
        "id": "TKUvYLxpv2p4"
      },
      "source": [
        "# Problem 1: MPPI"
      ]
    },
    {
      "cell_type": "markdown",
      "metadata": {
        "id": "oHr3pCDajeQr"
      },
      "source": [
        "## 1a) MPPI to move toward a goal *coordinate*"
      ]
    },
    {
      "cell_type": "markdown",
      "metadata": {
        "id": "rSN_vAxgrB7p"
      },
      "source": [
        "In this problem, you'll implement a basic version of MPPI and show that it outputs a good rollout to move a robot toward a given goal position. This part uses the Unicycle kinematic model that's built into the simulator. You should  make sure that your `get_action` method considers the control limits (otherwise it may command things that the robot can't execute), which may require passing those as arguments to the `__init__` method.\n",
        "\n",
        "You will probably need to experiment with different numbers of rollouts, cost functions, λ values, numbers of iterations, etc. to get good performance.\n",
        "\n",
        "Keeping this code relatively organized and clean will help for later parts in the assignment, where you build on this implementation. For example, you are encouraged to define helper methods in your `MPPI` class to help keep your code organized (e.g., you may want a `score_rollouts` and/or `plot_rollouts` method that get called inside the `get_next_action` method).\n",
        "\n",
        "**Deliverables**:\n",
        "- Implement the `MPPI` class, in particular the `get_next_action` method, so that the chosen rollout drives the robot toward the goal position.\n",
        "- Print the best control sequence your MPPI algorithm came up with (the first row/element of this sequence should be the action that your `get_action` returns)\n",
        "- Include a plot that shows the rollouts, start position, goal position, and highlights the best rollout in that iteration, for at least a few iterations. We expect that the later iterations will give much better rollouts than the first iteration. You should make your axes have the same scale (e.g., using `plt.axis('equal')`)."
      ]
    },
    {
      "cell_type": "code",
      "execution_count": 4,
      "metadata": {
        "id": "KLBNRUxk9biN"
      },
      "outputs": [],
      "source": [
        "import math\n",
        "\n",
        "# Create an instance of the mobile robot simulator we'll use this semester\n",
        "env = gymnasium.make(\"gym_neu_racing/NEUEmptyWorld-v0\")\n",
        "\n",
        "# Tell the simulator to directly provide the current state vector (no sensors yet)\n",
        "env = StateFeedbackWrapper(env)"
      ]
    },
    {
      "cell_type": "markdown",
      "source": [
        "### Support functions"
      ],
      "metadata": {
        "id": "W2UoO7C6MsYP"
      }
    },
    {
      "cell_type": "markdown",
      "source": [
        "#### Funtion to score roll-out"
      ],
      "metadata": {
        "id": "Uh8vGCn24RjI"
      }
    },
    {
      "cell_type": "code",
      "source": [
        "def dist_score(goal_pos: np.ndarray, current_state: np.ndarray, kl:float=10):\n",
        "    dist = (((goal_pos[0] - current_state[0]) ** 2) + ((goal_pos[1] - current_state[1]) ** 2)) ** 0.5\n",
        "    return kl*dist"
      ],
      "metadata": {
        "id": "I2jEavXh4SSA"
      },
      "execution_count": 5,
      "outputs": []
    },
    {
      "cell_type": "markdown",
      "source": [
        "#### Function to compute best action"
      ],
      "metadata": {
        "id": "S0_XU-YF2qPg"
      }
    },
    {
      "cell_type": "code",
      "source": [
        "def get_best_action(initial_state: np.ndarray, goal_pos: np.ndarray, nominal_action: np.ndarray,\n",
        "                    pertub: np.ndarray, N: int, T: int, dt:float=0.1, score_func=dist_score,\n",
        "                    k_lam_lin:float=0.5, k_lam_ang:float=25):\n",
        "\n",
        "    # Variables for limiting action\n",
        "    v_min=0\n",
        "    v_max=1\n",
        "    w_min=-2*np.pi\n",
        "    w_max=2*np.pi\n",
        "\n",
        "    # Initializing box to limit action\n",
        "    action_space = spaces.Box(np.array([v_min, w_min]),\n",
        "                                       np.array([v_max, w_max]),\n",
        "                                       shape=(2,),\n",
        "                                       dtype=float)\n",
        "\n",
        "    # Initializing arrays\n",
        "    action = np.empty(2)\n",
        "    action_clipped = np.empty(2)\n",
        "\n",
        "    states = np.empty((N,T,3))\n",
        "    current_state = np.full((N,3),initial_state)\n",
        "    scores = np.zeros(N)\n",
        "\n",
        "    for t in range(T):      # Parallely computing the roll-outs\n",
        "\n",
        "      for n in range(N):    # Going through the roll-outs\n",
        "\n",
        "        action = [nominal_action[0]+pertub[n][0][t], nominal_action[1]+pertub[n][1][t]]    # Adding the corresponding pertubation\n",
        "        action_clipped = np.clip(action,action_space.low, action_space.high)               # Clipping the action\n",
        "\n",
        "        states[n][t] = current_state[n]\n",
        "\n",
        "        # Computing the current X and Y co-ordinates\n",
        "        pos_x = current_state[n][0] + (action_clipped[0]*math.cos(current_state[n][2])*dt)\n",
        "        pos_y = current_state[n][1] + (action_clipped[0]*math.sin(current_state[n][2])*dt)\n",
        "        theta = current_state[n][2] + (action_clipped[1] * dt)\n",
        "\n",
        "        # Updating the current_state of the nth roll-out\n",
        "        current_state[n] = np.array([pos_x, pos_y, theta])\n",
        "\n",
        "        # Computing the score of the nth roll-out\n",
        "        scores[n] = scores[n] + score_func(goal_pos, current_state[n], kl=50)\n",
        "\n",
        "    # To print the actions with the best score\n",
        "    min_val = scores[0]\n",
        "    min_index = 0\n",
        "\n",
        "    # Plotting the initial state\n",
        "    plt.plot(states[0][0,0], states[0][0,1], '*b')\n",
        "\n",
        "    for n in range(N):\n",
        "      plt.plot(states[n][:,0], states[n][:,1], 'b--')\n",
        "      if(scores[n]<min_val):\n",
        "        min_val = scores[n]\n",
        "        min_index = n\n",
        "\n",
        "    # Plotting the final state\n",
        "    plt.plot(states[min_index][-1,0], states[min_index][-1,1], '*r')\n",
        "\n",
        "    plt.plot(states[min_index][:,0], states[min_index][:,1], 'r')\n",
        "    print(\"Winner: \",[nominal_action[0]+pertub[min_index][0][t], nominal_action[1]+pertub[min_index][1][t]], min_val)\n",
        "\n",
        "    # Setting the properties of the plot\n",
        "    plt.axis('equal')\n",
        "    plt.xlabel(\"X\")\n",
        "    plt.ylabel(\"Y\")\n",
        "    plt.show()\n",
        "\n",
        "    # Initializing the sum holding variables\n",
        "    sum_num_lin = 0.\n",
        "    sum_num_ang = 0.\n",
        "    sum_weights_lin = 0.\n",
        "    sum_weights_ang = 0.\n",
        "\n",
        "    best_action = np.empty(2)\n",
        "\n",
        "    # Computing the weighted sum of all the pertubations\n",
        "    for n in range(N):\n",
        "        sum_num_lin = sum_num_lin + (pertub[n][0][0]*(np.exp(-scores[n]/k_lam_lin)))\n",
        "        sum_num_ang = sum_num_ang + (pertub[n][1][0]*(np.exp(-scores[n]/k_lam_ang)))\n",
        "        sum_weights_lin = sum_weights_lin + (np.exp(-scores[n]/k_lam_lin))\n",
        "        sum_weights_ang = sum_weights_ang + (np.exp(-scores[n]/k_lam_ang))\n",
        "\n",
        "    # Computing the best action\n",
        "    best_action[0] = nominal_action[0] + (sum_num_lin/sum_weights_lin)\n",
        "    best_action[1] = nominal_action[1] + (sum_num_ang/sum_weights_ang)\n",
        "\n",
        "    # Clipping the action to stay within controllable values\n",
        "    best_action = np.clip(best_action, action_space.low, action_space.high)\n",
        "\n",
        "    print(\"Scores: \")\n",
        "    print(scores)\n",
        "\n",
        "    return best_action"
      ],
      "metadata": {
        "id": "Kt9X_5f12p0W"
      },
      "execution_count": 6,
      "outputs": []
    },
    {
      "cell_type": "markdown",
      "source": [
        "#### Function to get the nominal action"
      ],
      "metadata": {
        "id": "vkQxGa6FoSXY"
      }
    },
    {
      "cell_type": "code",
      "source": [
        "def get_nominal_action(initial_state: np.ndarray, goal_pos: np.ndarray):\n",
        "\n",
        "    # Deriving the transformation matrix that maps the robot frame to world frame\n",
        "    TF = np.array([[math.cos(initial_state[2]), -math.sin(initial_state[2])],\n",
        "                  [math.sin(initial_state[2]), math.cos(initial_state[2])]])\n",
        "\n",
        "    # Changing from world frame to robot frame\n",
        "    rotated_goal = np.matmul(np.transpose(TF), np.transpose(goal_pos))\n",
        "    translation_correction = -np.matmul(np.transpose(TF), np.transpose(initial_state[0:2]))\n",
        "    transformed_goal = np.add(rotated_goal, translation_correction)\n",
        "\n",
        "    # Get the goal distance in the robot frame\n",
        "    dist = ((transformed_goal[0] ** 2) + (transformed_goal[1] ** 2)) ** 0.5\n",
        "\n",
        "    linear_speed = 1\n",
        "\n",
        "    if  transformed_goal[1] == 0:\n",
        "        angular_speed = 0\n",
        "        if transformed_goal[0] < 0:   # This is done to get the robot out of an infinite loop condition\n",
        "          angular_speed = 0.5\n",
        "    else:\n",
        "        r = (dist ** 2)/(2 * transformed_goal[1])\n",
        "        angular_speed = linear_speed/r\n",
        "\n",
        "    actions = np.array([linear_speed, angular_speed])\n",
        "    return actions"
      ],
      "metadata": {
        "id": "uL1c5CFbZj9j"
      },
      "execution_count": 7,
      "outputs": []
    },
    {
      "cell_type": "markdown",
      "source": [
        "#### Function to get the pertubation matrix"
      ],
      "metadata": {
        "id": "QPQGzy2monKW"
      }
    },
    {
      "cell_type": "code",
      "source": [
        "def get_pertubation(mu: np.ndarray, sigma: np.ndarray, n:int, T:int):\n",
        "    # Returns [[del_v0, del_w0],[del_v1, del_w1], ....]\n",
        "    # where del_vn is an array of length T\n",
        "    pertubation_matrix = np.empty((n,2,T))\n",
        "\n",
        "    print(mu, sigma)\n",
        "\n",
        "\n",
        "    for i in range(n):\n",
        "        del_v = np.random.normal(mu[0], sigma[0], T)\n",
        "        del_w = np.random.normal(mu[1], sigma[1], T)\n",
        "        val = np.array([del_v, del_w])\n",
        "\n",
        "        pertubation_matrix[i] = val\n",
        "\n",
        "    return pertubation_matrix"
      ],
      "metadata": {
        "id": "dzVHfMwFAKZN"
      },
      "execution_count": 8,
      "outputs": []
    },
    {
      "cell_type": "markdown",
      "source": [
        "### Controller"
      ],
      "metadata": {
        "id": "z3g5V1kr-0ce"
      }
    },
    {
      "cell_type": "code",
      "execution_count": 9,
      "metadata": {
        "id": "2ZJH3QRk3mRy"
      },
      "outputs": [],
      "source": [
        "class MPPI:\n",
        "    def __init__(\n",
        "        self,\n",
        "        motion_model=motion_models.Unicycle(),\n",
        "        v_min=0, v_max=1, w_min=-2*np.pi, w_max=2*np.pi,\n",
        "        T=10, N=25, mu_v=0.5, mu_w=0, sigma_v=0.5, sigma_w=2\n",
        "    ):\n",
        "        \"\"\" Your implementation here \"\"\"\n",
        "        self.action_space = spaces.Box(np.array([v_min, w_min]),\n",
        "                                       np.array([v_max, w_max]),\n",
        "                                       shape=(2,),\n",
        "                                       dtype=float)\n",
        "        self.motion_model = motion_model\n",
        "        self.T = T\n",
        "        self.N = N\n",
        "        self.mu = np.array([mu_v, mu_w])\n",
        "        self.sigma = np.array([sigma_v, sigma_w])\n",
        "        # raise NotImplementedError\n",
        "\n",
        "    def get_action(self, initial_state: np.ndarray, goal_pos: np.ndarray):\n",
        "        \"\"\" Your implementation here \"\"\"\n",
        "\n",
        "        # Function to get the nominal path(PurePursuit)\n",
        "        nominal_action = get_nominal_action(initial_state, goal_pos)\n",
        "        # nominal_action = [0,0]\n",
        "\n",
        "        # Function to generate pertubation matrix\n",
        "        pertub = get_pertubation(self.mu, self.sigma, self.N, self.T)\n",
        "        # print(pertub[:][1])\n",
        "\n",
        "        # Function to estimate state and score the rollout\n",
        "        action = get_best_action(initial_state, goal_pos, nominal_action, pertub, self.N, self.T)\n",
        "        # print(action)\n",
        "\n",
        "        # raise NotImplementedError\n",
        "        return action"
      ]
    },
    {
      "cell_type": "markdown",
      "metadata": {
        "id": "z7KCd76vpd7O"
      },
      "source": [
        "You can use the following code to check whether your MPPI implementation is working. After tuning your algorithm, it should be able to come up with a rollout that ends close to the goal (within 0.1m in l2 distance is close enough):"
      ]
    },
    {
      "cell_type": "markdown",
      "source": [
        "### Testing"
      ],
      "metadata": {
        "id": "gPBdTHPFoXsA"
      }
    },
    {
      "cell_type": "code",
      "execution_count": 10,
      "metadata": {
        "id": "0MwJmizDsKT_",
        "colab": {
          "base_uri": "https://localhost:8080/",
          "height": 588
        },
        "outputId": "a8ea80bf-b0b0-42bb-a638-3642bc63c049"
      },
      "outputs": [
        {
          "output_type": "stream",
          "name": "stdout",
          "text": [
            "[0.5 0. ] [0.5 2. ]\n",
            "Winner:  [1.9568529037084517, 3.38332383673965] 157.70569204832628\n"
          ]
        },
        {
          "output_type": "display_data",
          "data": {
            "text/plain": [
              "<Figure size 640x480 with 1 Axes>"
            ],
            "image/png": "[encoded data removed]"
          },
          "metadata": {}
        },
        {
          "output_type": "stream",
          "name": "stdout",
          "text": [
            "Scores: \n",
            "[172.31616501 179.28163519 160.00166093 159.59375511 189.12110141\n",
            " 248.51357744 165.90569509 285.42111011 173.27441089 181.19079616\n",
            " 157.70569205 172.10206501 171.57904477 172.76307391 164.50739273\n",
            " 261.24291083 196.17678884 207.13588088 213.40726369 188.22377891\n",
            " 200.1243747  174.71602333 271.57190021 197.31746031 199.77835103]\n"
          ]
        }
      ],
      "source": [
        "# Initialize the environment (and set random seed so any randomness is repeatable)\n",
        "np.random.seed(0)\n",
        "obs, _ = env.reset()\n",
        "\n",
        "# Set the starting state (x, y, theta) and goal position (x, y)\n",
        "initial_state = np.array([0.0, 0.0, 0.0])\n",
        "goal_pos = np.array([0.5, 0.5])\n",
        "\n",
        "# Instantiate your contoller class\n",
        "controller = MPPI()\n",
        "\n",
        "# Run your control algorithm for 1 step. We'll worry about running your\n",
        "# algorithm in closed-loop in later parts of the assignment.\n",
        "action = controller.get_action(initial_state, goal_pos)"
      ]
    },
    {
      "cell_type": "markdown",
      "metadata": {
        "id": "TbpVmsnFKLFE"
      },
      "source": [
        "## 1b) MPPI to drive around a racetrack\n",
        "\n",
        "Now you will extend your MPPI implementation so that your robot drives around a racetrack. There are a few interesting challenges you'll need to figure out that didn't appear in the earlier problem:\n",
        "\n",
        "*   How to score rollouts? Some possible ideas include placing waypoints around the track, designing a cost-to-go function, or encouraging the vehicle to maintain full speed, but this is completely up to you!\n",
        "*   How to ensure the robot doesn't collide with the walls? You can transform coordinates from the world frame to map cell indices using `self.static_map.world_coordinates_to_map_indices(states_in_world)` and `self.static_map.static_map[map_indices]` to check whether a cell of the map is occupied or free.\n",
        "\n",
        "**Deliverables**:\n",
        "- Implement the `MPPIRacetrack` class below to enable your robot to complete a full lap around the track\n",
        "- Generate a plot of the path taken with some indication of time (e.g., using a colorbar, timestamps every so often along the path, or another creative way you come up with)"
      ]
    },
    {
      "cell_type": "code",
      "execution_count": 11,
      "metadata": {
        "id": "LHiwUnxOKOLa"
      },
      "outputs": [],
      "source": [
        "# Create an instance of the mobile robot simulator we'll use this semester\n",
        "env = gymnasium.make(\"gym_neu_racing/NEURacing-v0\")\n",
        "\n",
        "# Tell the simulator to directly provide the current state vector (no sensors yet)\n",
        "env = StateFeedbackWrapper(env)"
      ]
    },
    {
      "cell_type": "code",
      "source": [
        "def score_race(new_state: np.array, current_state: np.array, k: float, k2: float):\n",
        "\n",
        "    theta_current = math.atan2(current_state[1], current_state[0])\n",
        "    theta_new = math.atan2(new_state[1], new_state[0])\n",
        "\n",
        "    # math.atan2 returns a value between [-pi,pi], so we need to convert it to [0,2*pi]\n",
        "    if(theta_current<0):\n",
        "      theta_current = (2*np.pi) - theta_current\n",
        "\n",
        "    if(theta_new<0):\n",
        "      theta_new = (2*np.pi) - theta_new\n",
        "\n",
        "    dist = ((new_state[0]**2)+(new_state[1]**2))**0.5\n",
        "\n",
        "    score = (-((theta_new - (3*np.pi/2)) - (theta_current - (3*np.pi/2))) * k) + (dist * k2)\n",
        "\n",
        "    return score"
      ],
      "metadata": {
        "id": "oZsUm8tkCikn"
      },
      "execution_count": 12,
      "outputs": []
    },
    {
      "cell_type": "code",
      "source": [
        "def get_best_action_rt(static_map, initial_state: np.array, nominal_action: np.array,\n",
        "                       pertub: np.ndarray, T: int, N: int, action_space,\n",
        "                       k:float, k2: float, lambda_lin: float, lambda_ang: float, dt:float=0.1):\n",
        "\n",
        "    # Initializing arrays\n",
        "    action = np.empty(2)\n",
        "    action_clipped = np.empty(2)\n",
        "\n",
        "    current_state = np.full((N,3),initial_state)\n",
        "    new_state = np.empty((N,3))\n",
        "    scores = np.zeros(N)\n",
        "\n",
        "    for t in range(T):        # Parallely computing the roll-outs\n",
        "        for n in range(N):    # Going through the roll-outs\n",
        "            action = [nominal_action[0]+pertub[n][0][t], nominal_action[1]+pertub[n][1][t]]    # Adding the corresponding pertubation\n",
        "            action_clipped = np.clip(action,action_space.low, action_space.high)               # Clipping the action\n",
        "\n",
        "            # Updating the state\n",
        "            new_state[n][0] = current_state[n][0] + (action_clipped[0]*math.cos(current_state[n][2])*dt)\n",
        "            new_state[n][1] = current_state[n][1] + (action_clipped[0]*math.sin(current_state[n][2])*dt)\n",
        "            new_state[n][2] = current_state[n][2] + (action_clipped[1] * dt)\n",
        "\n",
        "            pos = np.array([new_state[n][0], new_state[n][1]])\n",
        "            map_indices = static_map.world_coordinates_to_map_indices(pos)\n",
        "\n",
        "            # Updating the scores\n",
        "            if static_map.static_map[map_indices[0][0]][map_indices[0][1]]:\n",
        "                val = 1\n",
        "            else:\n",
        "                val = 0\n",
        "            scores[n] = scores[n] + score_race(new_state[n], current_state[n], k, k2) + (val * 10000)\n",
        "\n",
        "            # Updating the current state\n",
        "            current_state = new_state\n",
        "\n",
        "    weights = np.empty((N,2))\n",
        "    sum_weights = np.zeros(2)\n",
        "    weighted_pertubation_sum = np.zeros(2)\n",
        "\n",
        "    for n in range(N):\n",
        "\n",
        "        # Computing the weights of the roll-outs\n",
        "        weights[n][0] = np.exp(-(scores[n]/lambda_lin))\n",
        "        weights[n][1] = np.exp(-(scores[n]/lambda_ang))\n",
        "\n",
        "        # Computing sum of weighted pertubations\n",
        "        weighted_pertubation_sum[0] = weighted_pertubation_sum[0] + (pertub[n][0][0] * weights[n][0])\n",
        "        weighted_pertubation_sum[1] = weighted_pertubation_sum[1] + (pertub[n][1][0] * weights[n][1])\n",
        "\n",
        "        # Summing all the weights together\n",
        "        sum_weights[0] = sum_weights[0] + weights[n][0]\n",
        "        sum_weights[1] = sum_weights[1] + weights[n][1]\n",
        "\n",
        "    # Computing best action\n",
        "    action[0] = nominal_action[0] + weighted_pertubation_sum[0]/sum_weights[0]\n",
        "    action[1] = nominal_action[1] + weighted_pertubation_sum[1]/sum_weights[1]\n",
        "\n",
        "    action = np.array([action[0], action[1]])\n",
        "    action = np.clip(action,action_space.low, action_space.high)\n",
        "\n",
        "    # print(action)\n",
        "    return action"
      ],
      "metadata": {
        "id": "Umau2uA3xFSt"
      },
      "execution_count": 13,
      "outputs": []
    },
    {
      "cell_type": "code",
      "execution_count": 14,
      "metadata": {
        "id": "pD7Tme-ON1bT"
      },
      "outputs": [],
      "source": [
        "class MPPIRacetrack:\n",
        "    def __init__(\n",
        "        self,\n",
        "        static_map,\n",
        "        motion_model=motion_models.Unicycle(),\n",
        "    ):\n",
        "        \"\"\" Your implementation here \"\"\"\n",
        "        self.mu = np.array([0.5, 0])\n",
        "        self.sigma = np.array([0.2, 3])\n",
        "        self.N = 25\n",
        "        self.T = 10\n",
        "\n",
        "        # Variables for limiting action\n",
        "        v_min=0\n",
        "        v_max=1\n",
        "        w_min=-2*np.pi\n",
        "        w_max=2*np.pi\n",
        "\n",
        "        # Initializing box to limit action\n",
        "        self.action_space = spaces.Box(np.array([v_min, w_min]),\n",
        "                                           np.array([v_max, w_max]),\n",
        "                                           shape=(2,),\n",
        "                                           dtype=float)\n",
        "\n",
        "        self.motion_model = motion_model\n",
        "        self.static_map = static_map\n",
        "        # raise NotImplementedError\n",
        "\n",
        "    def get_action(self, initial_state: np.array) -> np.array:\n",
        "        \"\"\" Your implementation here \"\"\"\n",
        "        # Getting the pertubation matrix\n",
        "        pertub = get_pertubation(mu=self.mu, sigma=self.sigma, n=self.N, T=self.T)\n",
        "\n",
        "        nominal_action = np.empty(2)\n",
        "        nominal_action = [0.9, 0]\n",
        "\n",
        "        # Calling get_best_action\n",
        "        action = get_best_action_rt(self.static_map, initial_state, nominal_action, pertub,\n",
        "                                self.T, self.N, self.action_space,\n",
        "                                k=10, k2=0.5, lambda_lin=2, lambda_ang=2)\n",
        "\n",
        "        # raise NotImplementedError\n",
        "        return action"
      ]
    },
    {
      "cell_type": "code",
      "execution_count": 15,
      "metadata": {
        "id": "nrYXKRJiOdTa",
        "colab": {
          "base_uri": "https://localhost:8080/",
          "height": 1000
        },
        "outputId": "6183175a-a412-4115-c1be-88cae838dd78"
      },
      "outputs": [
        {
          "output_type": "stream",
          "name": "stdout",
          "text": [
            "[0.5 0. ] [0.2 3. ]\n",
            "[0.5 0. ] [0.2 3. ]\n",
            "[0.5 0. ] [0.2 3. ]\n",
            "[0.5 0. ] [0.2 3. ]\n",
            "[0.5 0. ] [0.2 3. ]\n",
            "[0.5 0. ] [0.2 3. ]\n",
            "[0.5 0. ] [0.2 3. ]\n",
            "[0.5 0. ] [0.2 3. ]\n",
            "[0.5 0. ] [0.2 3. ]\n",
            "lap completed!\n",
            "clockwise -> fwd lap completed\n",
            "[0.5 0. ] [0.2 3. ]\n",
            "[0.5 0. ] [0.2 3. ]\n",
            "[0.5 0. ] [0.2 3. ]\n",
            "[0.5 0. ] [0.2 3. ]\n",
            "[0.5 0. ] [0.2 3. ]\n",
            "[0.5 0. ] [0.2 3. ]\n",
            "[0.5 0. ] [0.2 3. ]\n",
            "[0.5 0. ] [0.2 3. ]\n",
            "[0.5 0. ] [0.2 3. ]\n",
            "[0.5 0. ] [0.2 3. ]\n",
            "[0.5 0. ] [0.2 3. ]\n",
            "[0.5 0. ] [0.2 3. ]\n",
            "[0.5 0. ] [0.2 3. ]\n",
            "[0.5 0. ] [0.2 3. ]\n",
            "[0.5 0. ] [0.2 3. ]\n",
            "[0.5 0. ] [0.2 3. ]\n",
            "[0.5 0. ] [0.2 3. ]\n",
            "[0.5 0. ] [0.2 3. ]\n",
            "[0.5 0. ] [0.2 3. ]\n",
            "[0.5 0. ] [0.2 3. ]\n",
            "[0.5 0. ] [0.2 3. ]\n",
            "[0.5 0. ] [0.2 3. ]\n",
            "[0.5 0. ] [0.2 3. ]\n",
            "[0.5 0. ] [0.2 3. ]\n",
            "[0.5 0. ] [0.2 3. ]\n",
            "[0.5 0. ] [0.2 3. ]\n",
            "[0.5 0. ] [0.2 3. ]\n",
            "[0.5 0. ] [0.2 3. ]\n",
            "[0.5 0. ] [0.2 3. ]\n",
            "[0.5 0. ] [0.2 3. ]\n",
            "[0.5 0. ] [0.2 3. ]\n",
            "[0.5 0. ] [0.2 3. ]\n",
            "[0.5 0. ] [0.2 3. ]\n",
            "[0.5 0. ] [0.2 3. ]\n",
            "[0.5 0. ] [0.2 3. ]\n",
            "[0.5 0. ] [0.2 3. ]\n",
            "[0.5 0. ] [0.2 3. ]\n",
            "[0.5 0. ] [0.2 3. ]\n",
            "[0.5 0. ] [0.2 3. ]\n",
            "[0.5 0. ] [0.2 3. ]\n",
            "[0.5 0. ] [0.2 3. ]\n",
            "[0.5 0. ] [0.2 3. ]\n",
            "[0.5 0. ] [0.2 3. ]\n",
            "[0.5 0. ] [0.2 3. ]\n",
            "[0.5 0. ] [0.2 3. ]\n",
            "[0.5 0. ] [0.2 3. ]\n",
            "[0.5 0. ] [0.2 3. ]\n",
            "[0.5 0. ] [0.2 3. ]\n",
            "[0.5 0. ] [0.2 3. ]\n",
            "[0.5 0. ] [0.2 3. ]\n",
            "[0.5 0. ] [0.2 3. ]\n",
            "[0.5 0. ] [0.2 3. ]\n",
            "[0.5 0. ] [0.2 3. ]\n",
            "[0.5 0. ] [0.2 3. ]\n",
            "[0.5 0. ] [0.2 3. ]\n",
            "[0.5 0. ] [0.2 3. ]\n",
            "[0.5 0. ] [0.2 3. ]\n",
            "[0.5 0. ] [0.2 3. ]\n",
            "[0.5 0. ] [0.2 3. ]\n",
            "[0.5 0. ] [0.2 3. ]\n",
            "[0.5 0. ] [0.2 3. ]\n",
            "[0.5 0. ] [0.2 3. ]\n",
            "[0.5 0. ] [0.2 3. ]\n",
            "[0.5 0. ] [0.2 3. ]\n",
            "[0.5 0. ] [0.2 3. ]\n",
            "[0.5 0. ] [0.2 3. ]\n",
            "[0.5 0. ] [0.2 3. ]\n",
            "[0.5 0. ] [0.2 3. ]\n",
            "[0.5 0. ] [0.2 3. ]\n",
            "[0.5 0. ] [0.2 3. ]\n",
            "[0.5 0. ] [0.2 3. ]\n",
            "[0.5 0. ] [0.2 3. ]\n",
            "[0.5 0. ] [0.2 3. ]\n",
            "[0.5 0. ] [0.2 3. ]\n",
            "[0.5 0. ] [0.2 3. ]\n",
            "[0.5 0. ] [0.2 3. ]\n",
            "[0.5 0. ] [0.2 3. ]\n",
            "[0.5 0. ] [0.2 3. ]\n",
            "[0.5 0. ] [0.2 3. ]\n",
            "[0.5 0. ] [0.2 3. ]\n",
            "[0.5 0. ] [0.2 3. ]\n",
            "[0.5 0. ] [0.2 3. ]\n",
            "[0.5 0. ] [0.2 3. ]\n",
            "[0.5 0. ] [0.2 3. ]\n",
            "[0.5 0. ] [0.2 3. ]\n",
            "[0.5 0. ] [0.2 3. ]\n",
            "[0.5 0. ] [0.2 3. ]\n",
            "[0.5 0. ] [0.2 3. ]\n",
            "[0.5 0. ] [0.2 3. ]\n",
            "[0.5 0. ] [0.2 3. ]\n",
            "[0.5 0. ] [0.2 3. ]\n",
            "[0.5 0. ] [0.2 3. ]\n",
            "[0.5 0. ] [0.2 3. ]\n",
            "[0.5 0. ] [0.2 3. ]\n",
            "[0.5 0. ] [0.2 3. ]\n",
            "[0.5 0. ] [0.2 3. ]\n",
            "[0.5 0. ] [0.2 3. ]\n",
            "[0.5 0. ] [0.2 3. ]\n",
            "[0.5 0. ] [0.2 3. ]\n",
            "[0.5 0. ] [0.2 3. ]\n",
            "[0.5 0. ] [0.2 3. ]\n",
            "[0.5 0. ] [0.2 3. ]\n",
            "[0.5 0. ] [0.2 3. ]\n",
            "[0.5 0. ] [0.2 3. ]\n",
            "[0.5 0. ] [0.2 3. ]\n",
            "[0.5 0. ] [0.2 3. ]\n",
            "[0.5 0. ] [0.2 3. ]\n",
            "[0.5 0. ] [0.2 3. ]\n",
            "[0.5 0. ] [0.2 3. ]\n",
            "[0.5 0. ] [0.2 3. ]\n",
            "[0.5 0. ] [0.2 3. ]\n",
            "[0.5 0. ] [0.2 3. ]\n",
            "[0.5 0. ] [0.2 3. ]\n",
            "[0.5 0. ] [0.2 3. ]\n",
            "[0.5 0. ] [0.2 3. ]\n",
            "[0.5 0. ] [0.2 3. ]\n",
            "[0.5 0. ] [0.2 3. ]\n",
            "[0.5 0. ] [0.2 3. ]\n",
            "[0.5 0. ] [0.2 3. ]\n",
            "[0.5 0. ] [0.2 3. ]\n",
            "[0.5 0. ] [0.2 3. ]\n",
            "[0.5 0. ] [0.2 3. ]\n",
            "[0.5 0. ] [0.2 3. ]\n",
            "[0.5 0. ] [0.2 3. ]\n",
            "[0.5 0. ] [0.2 3. ]\n",
            "[0.5 0. ] [0.2 3. ]\n",
            "[0.5 0. ] [0.2 3. ]\n",
            "[0.5 0. ] [0.2 3. ]\n",
            "[0.5 0. ] [0.2 3. ]\n",
            "[0.5 0. ] [0.2 3. ]\n",
            "[0.5 0. ] [0.2 3. ]\n",
            "[0.5 0. ] [0.2 3. ]\n",
            "[0.5 0. ] [0.2 3. ]\n",
            "[0.5 0. ] [0.2 3. ]\n",
            "[0.5 0. ] [0.2 3. ]\n",
            "[0.5 0. ] [0.2 3. ]\n",
            "[0.5 0. ] [0.2 3. ]\n",
            "[0.5 0. ] [0.2 3. ]\n",
            "[0.5 0. ] [0.2 3. ]\n",
            "[0.5 0. ] [0.2 3. ]\n",
            "[0.5 0. ] [0.2 3. ]\n",
            "[0.5 0. ] [0.2 3. ]\n",
            "[0.5 0. ] [0.2 3. ]\n",
            "[0.5 0. ] [0.2 3. ]\n",
            "[0.5 0. ] [0.2 3. ]\n",
            "[0.5 0. ] [0.2 3. ]\n",
            "[0.5 0. ] [0.2 3. ]\n",
            "[0.5 0. ] [0.2 3. ]\n",
            "[0.5 0. ] [0.2 3. ]\n",
            "[0.5 0. ] [0.2 3. ]\n",
            "[0.5 0. ] [0.2 3. ]\n",
            "[0.5 0. ] [0.2 3. ]\n",
            "[0.5 0. ] [0.2 3. ]\n",
            "[0.5 0. ] [0.2 3. ]\n",
            "[0.5 0. ] [0.2 3. ]\n",
            "[0.5 0. ] [0.2 3. ]\n",
            "[0.5 0. ] [0.2 3. ]\n",
            "[0.5 0. ] [0.2 3. ]\n",
            "[0.5 0. ] [0.2 3. ]\n",
            "[0.5 0. ] [0.2 3. ]\n",
            "[0.5 0. ] [0.2 3. ]\n",
            "[0.5 0. ] [0.2 3. ]\n",
            "[0.5 0. ] [0.2 3. ]\n",
            "[0.5 0. ] [0.2 3. ]\n",
            "[0.5 0. ] [0.2 3. ]\n",
            "[0.5 0. ] [0.2 3. ]\n",
            "[0.5 0. ] [0.2 3. ]\n",
            "[0.5 0. ] [0.2 3. ]\n",
            "[0.5 0. ] [0.2 3. ]\n",
            "[0.5 0. ] [0.2 3. ]\n",
            "[0.5 0. ] [0.2 3. ]\n",
            "[0.5 0. ] [0.2 3. ]\n",
            "[0.5 0. ] [0.2 3. ]\n",
            "[0.5 0. ] [0.2 3. ]\n",
            "[0.5 0. ] [0.2 3. ]\n",
            "[0.5 0. ] [0.2 3. ]\n",
            "[0.5 0. ] [0.2 3. ]\n",
            "[0.5 0. ] [0.2 3. ]\n",
            "[0.5 0. ] [0.2 3. ]\n",
            "[0.5 0. ] [0.2 3. ]\n",
            "[0.5 0. ] [0.2 3. ]\n",
            "[0.5 0. ] [0.2 3. ]\n",
            "[0.5 0. ] [0.2 3. ]\n",
            "[0.5 0. ] [0.2 3. ]\n",
            "[0.5 0. ] [0.2 3. ]\n",
            "[0.5 0. ] [0.2 3. ]\n",
            "[0.5 0. ] [0.2 3. ]\n",
            "[0.5 0. ] [0.2 3. ]\n",
            "[0.5 0. ] [0.2 3. ]\n",
            "[0.5 0. ] [0.2 3. ]\n",
            "[0.5 0. ] [0.2 3. ]\n",
            "[0.5 0. ] [0.2 3. ]\n",
            "[0.5 0. ] [0.2 3. ]\n",
            "[0.5 0. ] [0.2 3. ]\n",
            "[0.5 0. ] [0.2 3. ]\n",
            "[0.5 0. ] [0.2 3. ]\n",
            "[0.5 0. ] [0.2 3. ]\n",
            "[0.5 0. ] [0.2 3. ]\n",
            "[0.5 0. ] [0.2 3. ]\n",
            "[0.5 0. ] [0.2 3. ]\n",
            "[0.5 0. ] [0.2 3. ]\n",
            "[0.5 0. ] [0.2 3. ]\n",
            "[0.5 0. ] [0.2 3. ]\n",
            "[0.5 0. ] [0.2 3. ]\n",
            "[0.5 0. ] [0.2 3. ]\n",
            "[0.5 0. ] [0.2 3. ]\n",
            "[0.5 0. ] [0.2 3. ]\n",
            "[0.5 0. ] [0.2 3. ]\n",
            "[0.5 0. ] [0.2 3. ]\n",
            "[0.5 0. ] [0.2 3. ]\n",
            "[0.5 0. ] [0.2 3. ]\n",
            "[0.5 0. ] [0.2 3. ]\n",
            "[0.5 0. ] [0.2 3. ]\n",
            "[0.5 0. ] [0.2 3. ]\n",
            "[0.5 0. ] [0.2 3. ]\n",
            "[0.5 0. ] [0.2 3. ]\n",
            "[0.5 0. ] [0.2 3. ]\n",
            "[0.5 0. ] [0.2 3. ]\n",
            "[0.5 0. ] [0.2 3. ]\n",
            "[0.5 0. ] [0.2 3. ]\n",
            "[0.5 0. ] [0.2 3. ]\n",
            "[0.5 0. ] [0.2 3. ]\n",
            "lap completed!\n",
            "clockwise -> fwd lap completed\n",
            "[0.5 0. ] [0.2 3. ]\n",
            "[0.5 0. ] [0.2 3. ]\n",
            "[0.5 0. ] [0.2 3. ]\n",
            "[0.5 0. ] [0.2 3. ]\n",
            "[0.5 0. ] [0.2 3. ]\n",
            "[0.5 0. ] [0.2 3. ]\n",
            "[0.5 0. ] [0.2 3. ]\n",
            "[0.5 0. ] [0.2 3. ]\n",
            "[0.5 0. ] [0.2 3. ]\n",
            "[0.5 0. ] [0.2 3. ]\n",
            "[0.5 0. ] [0.2 3. ]\n",
            "[0.5 0. ] [0.2 3. ]\n",
            "[0.5 0. ] [0.2 3. ]\n",
            "[0.5 0. ] [0.2 3. ]\n",
            "[0.5 0. ] [0.2 3. ]\n",
            "[0.5 0. ] [0.2 3. ]\n",
            "[0.5 0. ] [0.2 3. ]\n",
            "[0.5 0. ] [0.2 3. ]\n",
            "[0.5 0. ] [0.2 3. ]\n",
            "[0.5 0. ] [0.2 3. ]\n",
            "[0.5 0. ] [0.2 3. ]\n",
            "[0.5 0. ] [0.2 3. ]\n",
            "[0.5 0. ] [0.2 3. ]\n",
            "[0.5 0. ] [0.2 3. ]\n",
            "[0.5 0. ] [0.2 3. ]\n",
            "[0.5 0. ] [0.2 3. ]\n",
            "[0.5 0. ] [0.2 3. ]\n",
            "[0.5 0. ] [0.2 3. ]\n",
            "[0.5 0. ] [0.2 3. ]\n",
            "[0.5 0. ] [0.2 3. ]\n",
            "[0.5 0. ] [0.2 3. ]\n",
            "[0.5 0. ] [0.2 3. ]\n",
            "[0.5 0. ] [0.2 3. ]\n",
            "[0.5 0. ] [0.2 3. ]\n",
            "[0.5 0. ] [0.2 3. ]\n",
            "[0.5 0. ] [0.2 3. ]\n",
            "[0.5 0. ] [0.2 3. ]\n",
            "[0.5 0. ] [0.2 3. ]\n",
            "[0.5 0. ] [0.2 3. ]\n",
            "[0.5 0. ] [0.2 3. ]\n",
            "[0.5 0. ] [0.2 3. ]\n",
            "[0.5 0. ] [0.2 3. ]\n",
            "[0.5 0. ] [0.2 3. ]\n",
            "[0.5 0. ] [0.2 3. ]\n",
            "[0.5 0. ] [0.2 3. ]\n",
            "[0.5 0. ] [0.2 3. ]\n",
            "[0.5 0. ] [0.2 3. ]\n",
            "[0.5 0. ] [0.2 3. ]\n",
            "[0.5 0. ] [0.2 3. ]\n",
            "[0.5 0. ] [0.2 3. ]\n",
            "[0.5 0. ] [0.2 3. ]\n",
            "[0.5 0. ] [0.2 3. ]\n",
            "[0.5 0. ] [0.2 3. ]\n",
            "[0.5 0. ] [0.2 3. ]\n",
            "[0.5 0. ] [0.2 3. ]\n",
            "[0.5 0. ] [0.2 3. ]\n",
            "[0.5 0. ] [0.2 3. ]\n",
            "[0.5 0. ] [0.2 3. ]\n",
            "[0.5 0. ] [0.2 3. ]\n",
            "[0.5 0. ] [0.2 3. ]\n",
            "[0.5 0. ] [0.2 3. ]\n",
            "[0.5 0. ] [0.2 3. ]\n",
            "[0.5 0. ] [0.2 3. ]\n",
            "[0.5 0. ] [0.2 3. ]\n",
            "[0.5 0. ] [0.2 3. ]\n",
            "[0.5 0. ] [0.2 3. ]\n",
            "[0.5 0. ] [0.2 3. ]\n",
            "[0.5 0. ] [0.2 3. ]\n",
            "[0.5 0. ] [0.2 3. ]\n",
            "[0.5 0. ] [0.2 3. ]\n",
            "[0.5 0. ] [0.2 3. ]\n",
            "[0.5 0. ] [0.2 3. ]\n",
            "[0.5 0. ] [0.2 3. ]\n",
            "[0.5 0. ] [0.2 3. ]\n",
            "[0.5 0. ] [0.2 3. ]\n",
            "[0.5 0. ] [0.2 3. ]\n",
            "[0.5 0. ] [0.2 3. ]\n",
            "[0.5 0. ] [0.2 3. ]\n",
            "[0.5 0. ] [0.2 3. ]\n",
            "[0.5 0. ] [0.2 3. ]\n",
            "[0.5 0. ] [0.2 3. ]\n",
            "[0.5 0. ] [0.2 3. ]\n",
            "[0.5 0. ] [0.2 3. ]\n",
            "[0.5 0. ] [0.2 3. ]\n",
            "[0.5 0. ] [0.2 3. ]\n",
            "[0.5 0. ] [0.2 3. ]\n",
            "[0.5 0. ] [0.2 3. ]\n",
            "[0.5 0. ] [0.2 3. ]\n",
            "[0.5 0. ] [0.2 3. ]\n",
            "[0.5 0. ] [0.2 3. ]\n",
            "[0.5 0. ] [0.2 3. ]\n",
            "[0.5 0. ] [0.2 3. ]\n",
            "[0.5 0. ] [0.2 3. ]\n",
            "[0.5 0. ] [0.2 3. ]\n",
            "[0.5 0. ] [0.2 3. ]\n",
            "[0.5 0. ] [0.2 3. ]\n",
            "[0.5 0. ] [0.2 3. ]\n",
            "[0.5 0. ] [0.2 3. ]\n",
            "[0.5 0. ] [0.2 3. ]\n",
            "[0.5 0. ] [0.2 3. ]\n",
            "[0.5 0. ] [0.2 3. ]\n",
            "[0.5 0. ] [0.2 3. ]\n",
            "[0.5 0. ] [0.2 3. ]\n",
            "[0.5 0. ] [0.2 3. ]\n",
            "[0.5 0. ] [0.2 3. ]\n",
            "[0.5 0. ] [0.2 3. ]\n",
            "[0.5 0. ] [0.2 3. ]\n",
            "[0.5 0. ] [0.2 3. ]\n",
            "[0.5 0. ] [0.2 3. ]\n",
            "[0.5 0. ] [0.2 3. ]\n",
            "[0.5 0. ] [0.2 3. ]\n",
            "[0.5 0. ] [0.2 3. ]\n",
            "[0.5 0. ] [0.2 3. ]\n",
            "[0.5 0. ] [0.2 3. ]\n",
            "[0.5 0. ] [0.2 3. ]\n",
            "[0.5 0. ] [0.2 3. ]\n",
            "[0.5 0. ] [0.2 3. ]\n",
            "[0.5 0. ] [0.2 3. ]\n",
            "[0.5 0. ] [0.2 3. ]\n",
            "[0.5 0. ] [0.2 3. ]\n",
            "[0.5 0. ] [0.2 3. ]\n",
            "[0.5 0. ] [0.2 3. ]\n",
            "[0.5 0. ] [0.2 3. ]\n",
            "[0.5 0. ] [0.2 3. ]\n",
            "[0.5 0. ] [0.2 3. ]\n",
            "[0.5 0. ] [0.2 3. ]\n",
            "[0.5 0. ] [0.2 3. ]\n",
            "[0.5 0. ] [0.2 3. ]\n",
            "[0.5 0. ] [0.2 3. ]\n",
            "[0.5 0. ] [0.2 3. ]\n",
            "[0.5 0. ] [0.2 3. ]\n",
            "[0.5 0. ] [0.2 3. ]\n",
            "[0.5 0. ] [0.2 3. ]\n",
            "[0.5 0. ] [0.2 3. ]\n",
            "[0.5 0. ] [0.2 3. ]\n",
            "[0.5 0. ] [0.2 3. ]\n",
            "[0.5 0. ] [0.2 3. ]\n",
            "[0.5 0. ] [0.2 3. ]\n",
            "[0.5 0. ] [0.2 3. ]\n",
            "[0.5 0. ] [0.2 3. ]\n",
            "[0.5 0. ] [0.2 3. ]\n",
            "[0.5 0. ] [0.2 3. ]\n",
            "[0.5 0. ] [0.2 3. ]\n",
            "[0.5 0. ] [0.2 3. ]\n",
            "[0.5 0. ] [0.2 3. ]\n",
            "[0.5 0. ] [0.2 3. ]\n",
            "[0.5 0. ] [0.2 3. ]\n",
            "[0.5 0. ] [0.2 3. ]\n",
            "[0.5 0. ] [0.2 3. ]\n",
            "[0.5 0. ] [0.2 3. ]\n",
            "[0.5 0. ] [0.2 3. ]\n",
            "[0.5 0. ] [0.2 3. ]\n",
            "[0.5 0. ] [0.2 3. ]\n",
            "[0.5 0. ] [0.2 3. ]\n",
            "[0.5 0. ] [0.2 3. ]\n",
            "[0.5 0. ] [0.2 3. ]\n",
            "[0.5 0. ] [0.2 3. ]\n",
            "[0.5 0. ] [0.2 3. ]\n",
            "[0.5 0. ] [0.2 3. ]\n",
            "[0.5 0. ] [0.2 3. ]\n",
            "[0.5 0. ] [0.2 3. ]\n",
            "[0.5 0. ] [0.2 3. ]\n",
            "[0.5 0. ] [0.2 3. ]\n",
            "[0.5 0. ] [0.2 3. ]\n",
            "[0.5 0. ] [0.2 3. ]\n",
            "[0.5 0. ] [0.2 3. ]\n",
            "[0.5 0. ] [0.2 3. ]\n",
            "[0.5 0. ] [0.2 3. ]\n",
            "[0.5 0. ] [0.2 3. ]\n",
            "[0.5 0. ] [0.2 3. ]\n",
            "[0.5 0. ] [0.2 3. ]\n",
            "[0.5 0. ] [0.2 3. ]\n",
            "[0.5 0. ] [0.2 3. ]\n",
            "[0.5 0. ] [0.2 3. ]\n",
            "[0.5 0. ] [0.2 3. ]\n",
            "[0.5 0. ] [0.2 3. ]\n",
            "[0.5 0. ] [0.2 3. ]\n",
            "[0.5 0. ] [0.2 3. ]\n",
            "[0.5 0. ] [0.2 3. ]\n",
            "[0.5 0. ] [0.2 3. ]\n",
            "[0.5 0. ] [0.2 3. ]\n",
            "[0.5 0. ] [0.2 3. ]\n",
            "[0.5 0. ] [0.2 3. ]\n",
            "[0.5 0. ] [0.2 3. ]\n",
            "[0.5 0. ] [0.2 3. ]\n",
            "[0.5 0. ] [0.2 3. ]\n",
            "[0.5 0. ] [0.2 3. ]\n",
            "[0.5 0. ] [0.2 3. ]\n",
            "[0.5 0. ] [0.2 3. ]\n",
            "[0.5 0. ] [0.2 3. ]\n",
            "[0.5 0. ] [0.2 3. ]\n",
            "[0.5 0. ] [0.2 3. ]\n",
            "[0.5 0. ] [0.2 3. ]\n",
            "[0.5 0. ] [0.2 3. ]\n",
            "[0.5 0. ] [0.2 3. ]\n",
            "[0.5 0. ] [0.2 3. ]\n",
            "[0.5 0. ] [0.2 3. ]\n",
            "[0.5 0. ] [0.2 3. ]\n",
            "[0.5 0. ] [0.2 3. ]\n",
            "[0.5 0. ] [0.2 3. ]\n",
            "[0.5 0. ] [0.2 3. ]\n",
            "[0.5 0. ] [0.2 3. ]\n",
            "[0.5 0. ] [0.2 3. ]\n",
            "[0.5 0. ] [0.2 3. ]\n",
            "[0.5 0. ] [0.2 3. ]\n",
            "lap completed!\n",
            "clockwise -> fwd lap completed\n"
          ]
        },
        {
          "output_type": "display_data",
          "data": {
            "text/plain": [
              "<Figure size 640x480 with 1 Axes>"
            ],
            "image/png": "[encoded data removed]"
          },
          "metadata": {}
        },
        {
          "output_type": "stream",
          "name": "stdout",
          "text": [
            "num timesteps used: 435\n"
          ]
        }
      ],
      "source": [
        "def run_planner_on_racetrack(\n",
        "    env: gymnasium.Env,\n",
        "    planner_class=MPPIRacetrack,\n",
        "    seed: int = 0,\n",
        "    num_laps: int = 3,\n",
        ") -> int:\n",
        "\n",
        "    np.random.seed(seed)\n",
        "    obs, _ = env.reset()\n",
        "    env.unwrapped.laps_left = num_laps\n",
        "\n",
        "    # Create an instance of your planner\n",
        "    planner = planner_class(static_map=env.unwrapped.map)\n",
        "\n",
        "    # Draw a map of the environment with the finish line + initial position\n",
        "    ax = env.unwrapped.map.draw_map(show=False)\n",
        "    ax.plot(\n",
        "        env.unwrapped.finish_line[:, 0],\n",
        "        env.unwrapped.finish_line[:, 1],\n",
        "        \"g\",\n",
        "        lw=3,\n",
        "    )\n",
        "    ax.plot(obs[0], obs[1], \"rx\")\n",
        "\n",
        "    # Run the environment for num_timesteps, unless the robot hits an obstacle\n",
        "    # or successfully completes the number of laps needed\n",
        "    num_timesteps = 500\n",
        "    success = False\n",
        "    for t in range(num_timesteps):\n",
        "        action = planner.get_action(obs)\n",
        "        obs, _, terminated, _, _ = env.step(action)\n",
        "\n",
        "        ax.plot(obs[0], obs[1], \"bx\")\n",
        "\n",
        "        if terminated:\n",
        "            success = True\n",
        "            break\n",
        "\n",
        "    num_timesteps_used = t\n",
        "\n",
        "    plt.show()\n",
        "\n",
        "    if success:\n",
        "        return num_timesteps_used\n",
        "    else:\n",
        "        return -1\n",
        "\n",
        "\n",
        "seed = 0\n",
        "num_laps = 3\n",
        "planner_class = MPPIRacetrack\n",
        "num_timesteps_used = run_planner_on_racetrack(\n",
        "    env, planner_class=planner_class, seed=seed, num_laps=num_laps\n",
        ")\n",
        "print(f\"num timesteps used: {num_timesteps_used}\")"
      ]
    },
    {
      "cell_type": "markdown",
      "metadata": {
        "id": "-0dX_C6SKOdz"
      },
      "source": [
        "## [Extra Credit] 1c) Compete for the fastest lap time"
      ]
    },
    {
      "cell_type": "markdown",
      "metadata": {
        "id": "lQ4OYjItKayG"
      },
      "source": [
        "In this part, you can earn extra credit by achieving faster lap times (measured in average number of steps to complete the course, not computational runtime). You can get some extra credit by implementing a working version of something interesting here (e.g., another planning algorithm, a learning-based method, an extension beyond the basic MPPI we discussed in class). We will give additional extra credit to the student with the fastest lap time, which can be monitored on the Gradescope leaderboard."
      ]
    },
    {
      "cell_type": "code",
      "execution_count": 16,
      "metadata": {
        "id": "XSk7vQxILMmh"
      },
      "outputs": [],
      "source": [
        "class BetterPlanner:\n",
        "    def __init__(self, static_map):\n",
        "        \"\"\"Store any hyperparameters here.\"\"\"\n",
        "        # raise NotImplementedError\n",
        "\n",
        "    def get_action(self, obs: np.ndarray) -> np.ndarray:\n",
        "\n",
        "        \"\"\" Your implementation here \"\"\"\n",
        "        # raise NotImplementedError\n",
        "        # return action"
      ]
    },
    {
      "cell_type": "code",
      "execution_count": 17,
      "metadata": {
        "id": "WlewS2XauH8x",
        "colab": {
          "base_uri": "https://localhost:8080/",
          "height": 804
        },
        "outputId": "23972ba0-2eca-45c1-f051-73203380c5e5"
      },
      "outputs": [
        {
          "output_type": "error",
          "ename": "TypeError",
          "evalue": "'>=' not supported between instances of 'NoneType' and 'float'",
          "traceback": [
            "\u001b[0;31m---------------------------------------------------------------------------\u001b[0m",
            "\u001b[0;31mTypeError\u001b[0m                                 Traceback (most recent call last)",
            "\u001b[0;32m<ipython-input-17-fd096235bbd8>\u001b[0m in \u001b[0;36m<cell line: 4>\u001b[0;34m()\u001b[0m\n\u001b[1;32m      2\u001b[0m \u001b[0mnum_laps\u001b[0m \u001b[0;34m=\u001b[0m \u001b[0;36m3\u001b[0m\u001b[0;34m\u001b[0m\u001b[0;34m\u001b[0m\u001b[0m\n\u001b[1;32m      3\u001b[0m \u001b[0mplanner_class\u001b[0m \u001b[0;34m=\u001b[0m \u001b[0mBetterPlanner\u001b[0m\u001b[0;34m\u001b[0m\u001b[0;34m\u001b[0m\u001b[0m\n\u001b[0;32m----> 4\u001b[0;31m run_planner_on_racetrack(\n\u001b[0m\u001b[1;32m      5\u001b[0m     \u001b[0menv\u001b[0m\u001b[0;34m,\u001b[0m \u001b[0mplanner_class\u001b[0m\u001b[0;34m=\u001b[0m\u001b[0mplanner_class\u001b[0m\u001b[0;34m,\u001b[0m \u001b[0mseed\u001b[0m\u001b[0;34m=\u001b[0m\u001b[0mseed\u001b[0m\u001b[0;34m,\u001b[0m \u001b[0mnum_laps\u001b[0m\u001b[0;34m=\u001b[0m\u001b[0mnum_laps\u001b[0m\u001b[0;34m\u001b[0m\u001b[0;34m\u001b[0m\u001b[0m\n\u001b[1;32m      6\u001b[0m )\n",
            "\u001b[0;32m<ipython-input-15-2ee6cd76bcd5>\u001b[0m in \u001b[0;36mrun_planner_on_racetrack\u001b[0;34m(env, planner_class, seed, num_laps)\u001b[0m\n\u001b[1;32m     29\u001b[0m     \u001b[0;32mfor\u001b[0m \u001b[0mt\u001b[0m \u001b[0;32min\u001b[0m \u001b[0mrange\u001b[0m\u001b[0;34m(\u001b[0m\u001b[0mnum_timesteps\u001b[0m\u001b[0;34m)\u001b[0m\u001b[0;34m:\u001b[0m\u001b[0;34m\u001b[0m\u001b[0;34m\u001b[0m\u001b[0m\n\u001b[1;32m     30\u001b[0m         \u001b[0maction\u001b[0m \u001b[0;34m=\u001b[0m \u001b[0mplanner\u001b[0m\u001b[0;34m.\u001b[0m\u001b[0mget_action\u001b[0m\u001b[0;34m(\u001b[0m\u001b[0mobs\u001b[0m\u001b[0;34m)\u001b[0m\u001b[0;34m\u001b[0m\u001b[0;34m\u001b[0m\u001b[0m\n\u001b[0;32m---> 31\u001b[0;31m         \u001b[0mobs\u001b[0m\u001b[0;34m,\u001b[0m \u001b[0m_\u001b[0m\u001b[0;34m,\u001b[0m \u001b[0mterminated\u001b[0m\u001b[0;34m,\u001b[0m \u001b[0m_\u001b[0m\u001b[0;34m,\u001b[0m \u001b[0m_\u001b[0m \u001b[0;34m=\u001b[0m \u001b[0menv\u001b[0m\u001b[0;34m.\u001b[0m\u001b[0mstep\u001b[0m\u001b[0;34m(\u001b[0m\u001b[0maction\u001b[0m\u001b[0;34m)\u001b[0m\u001b[0;34m\u001b[0m\u001b[0;34m\u001b[0m\u001b[0m\n\u001b[0m\u001b[1;32m     32\u001b[0m \u001b[0;34m\u001b[0m\u001b[0m\n\u001b[1;32m     33\u001b[0m         \u001b[0max\u001b[0m\u001b[0;34m.\u001b[0m\u001b[0mplot\u001b[0m\u001b[0;34m(\u001b[0m\u001b[0mobs\u001b[0m\u001b[0;34m[\u001b[0m\u001b[0;36m0\u001b[0m\u001b[0;34m]\u001b[0m\u001b[0;34m,\u001b[0m \u001b[0mobs\u001b[0m\u001b[0;34m[\u001b[0m\u001b[0;36m1\u001b[0m\u001b[0;34m]\u001b[0m\u001b[0;34m,\u001b[0m \u001b[0;34m\"bx\"\u001b[0m\u001b[0;34m)\u001b[0m\u001b[0;34m\u001b[0m\u001b[0;34m\u001b[0m\u001b[0m\n",
            "\u001b[0;32m/usr/local/lib/python3.10/dist-packages/gymnasium/core.py\u001b[0m in \u001b[0;36mstep\u001b[0;34m(self, action)\u001b[0m\n\u001b[1;32m    520\u001b[0m     ) -> tuple[WrapperObsType, SupportsFloat, bool, bool, dict[str, Any]]:\n\u001b[1;32m    521\u001b[0m         \u001b[0;34m\"\"\"Modifies the :attr:`env` after calling :meth:`step` using :meth:`self.observation` on the returned observations.\"\"\"\u001b[0m\u001b[0;34m\u001b[0m\u001b[0;34m\u001b[0m\u001b[0m\n\u001b[0;32m--> 522\u001b[0;31m         \u001b[0mobservation\u001b[0m\u001b[0;34m,\u001b[0m \u001b[0mreward\u001b[0m\u001b[0;34m,\u001b[0m \u001b[0mterminated\u001b[0m\u001b[0;34m,\u001b[0m \u001b[0mtruncated\u001b[0m\u001b[0;34m,\u001b[0m \u001b[0minfo\u001b[0m \u001b[0;34m=\u001b[0m \u001b[0mself\u001b[0m\u001b[0;34m.\u001b[0m\u001b[0menv\u001b[0m\u001b[0;34m.\u001b[0m\u001b[0mstep\u001b[0m\u001b[0;34m(\u001b[0m\u001b[0maction\u001b[0m\u001b[0;34m)\u001b[0m\u001b[0;34m\u001b[0m\u001b[0;34m\u001b[0m\u001b[0m\n\u001b[0m\u001b[1;32m    523\u001b[0m         \u001b[0;32mreturn\u001b[0m \u001b[0mself\u001b[0m\u001b[0;34m.\u001b[0m\u001b[0mobservation\u001b[0m\u001b[0;34m(\u001b[0m\u001b[0mobservation\u001b[0m\u001b[0;34m)\u001b[0m\u001b[0;34m,\u001b[0m \u001b[0mreward\u001b[0m\u001b[0;34m,\u001b[0m \u001b[0mterminated\u001b[0m\u001b[0;34m,\u001b[0m \u001b[0mtruncated\u001b[0m\u001b[0;34m,\u001b[0m \u001b[0minfo\u001b[0m\u001b[0;34m\u001b[0m\u001b[0;34m\u001b[0m\u001b[0m\n\u001b[1;32m    524\u001b[0m \u001b[0;34m\u001b[0m\u001b[0m\n",
            "\u001b[0;32m/usr/local/lib/python3.10/dist-packages/gymnasium/wrappers/order_enforcing.py\u001b[0m in \u001b[0;36mstep\u001b[0;34m(self, action)\u001b[0m\n\u001b[1;32m     54\u001b[0m         \u001b[0;32mif\u001b[0m \u001b[0;32mnot\u001b[0m \u001b[0mself\u001b[0m\u001b[0;34m.\u001b[0m\u001b[0m_has_reset\u001b[0m\u001b[0;34m:\u001b[0m\u001b[0;34m\u001b[0m\u001b[0;34m\u001b[0m\u001b[0m\n\u001b[1;32m     55\u001b[0m             \u001b[0;32mraise\u001b[0m \u001b[0mResetNeeded\u001b[0m\u001b[0;34m(\u001b[0m\u001b[0;34m\"Cannot call env.step() before calling env.reset()\"\u001b[0m\u001b[0;34m)\u001b[0m\u001b[0;34m\u001b[0m\u001b[0;34m\u001b[0m\u001b[0m\n\u001b[0;32m---> 56\u001b[0;31m         \u001b[0;32mreturn\u001b[0m \u001b[0mself\u001b[0m\u001b[0;34m.\u001b[0m\u001b[0menv\u001b[0m\u001b[0;34m.\u001b[0m\u001b[0mstep\u001b[0m\u001b[0;34m(\u001b[0m\u001b[0maction\u001b[0m\u001b[0;34m)\u001b[0m\u001b[0;34m\u001b[0m\u001b[0;34m\u001b[0m\u001b[0m\n\u001b[0m\u001b[1;32m     57\u001b[0m \u001b[0;34m\u001b[0m\u001b[0m\n\u001b[1;32m     58\u001b[0m     \u001b[0;32mdef\u001b[0m \u001b[0mreset\u001b[0m\u001b[0;34m(\u001b[0m\u001b[0mself\u001b[0m\u001b[0;34m,\u001b[0m \u001b[0;34m**\u001b[0m\u001b[0mkwargs\u001b[0m\u001b[0;34m)\u001b[0m\u001b[0;34m:\u001b[0m\u001b[0;34m\u001b[0m\u001b[0;34m\u001b[0m\u001b[0m\n",
            "\u001b[0;32m/usr/local/lib/python3.10/dist-packages/gymnasium/wrappers/env_checker.py\u001b[0m in \u001b[0;36mstep\u001b[0;34m(self, action)\u001b[0m\n\u001b[1;32m     49\u001b[0m             \u001b[0;32mreturn\u001b[0m \u001b[0menv_step_passive_checker\u001b[0m\u001b[0;34m(\u001b[0m\u001b[0mself\u001b[0m\u001b[0;34m.\u001b[0m\u001b[0menv\u001b[0m\u001b[0;34m,\u001b[0m \u001b[0maction\u001b[0m\u001b[0;34m)\u001b[0m\u001b[0;34m\u001b[0m\u001b[0;34m\u001b[0m\u001b[0m\n\u001b[1;32m     50\u001b[0m         \u001b[0;32melse\u001b[0m\u001b[0;34m:\u001b[0m\u001b[0;34m\u001b[0m\u001b[0;34m\u001b[0m\u001b[0m\n\u001b[0;32m---> 51\u001b[0;31m             \u001b[0;32mreturn\u001b[0m \u001b[0mself\u001b[0m\u001b[0;34m.\u001b[0m\u001b[0menv\u001b[0m\u001b[0;34m.\u001b[0m\u001b[0mstep\u001b[0m\u001b[0;34m(\u001b[0m\u001b[0maction\u001b[0m\u001b[0;34m)\u001b[0m\u001b[0;34m\u001b[0m\u001b[0;34m\u001b[0m\u001b[0m\n\u001b[0m\u001b[1;32m     52\u001b[0m \u001b[0;34m\u001b[0m\u001b[0m\n\u001b[1;32m     53\u001b[0m     \u001b[0;32mdef\u001b[0m \u001b[0mreset\u001b[0m\u001b[0;34m(\u001b[0m\u001b[0mself\u001b[0m\u001b[0;34m,\u001b[0m \u001b[0;34m**\u001b[0m\u001b[0mkwargs\u001b[0m\u001b[0;34m)\u001b[0m\u001b[0;34m:\u001b[0m\u001b[0;34m\u001b[0m\u001b[0;34m\u001b[0m\u001b[0m\n",
            "\u001b[0;32m/usr/local/lib/python3.10/dist-packages/gym_neu_racing/envs/racing.py\u001b[0m in \u001b[0;36mstep\u001b[0;34m(self, action)\u001b[0m\n\u001b[1;32m     96\u001b[0m     \u001b[0;32mdef\u001b[0m \u001b[0mstep\u001b[0m\u001b[0;34m(\u001b[0m\u001b[0mself\u001b[0m\u001b[0;34m,\u001b[0m \u001b[0maction\u001b[0m\u001b[0;34m)\u001b[0m\u001b[0;34m:\u001b[0m\u001b[0;34m\u001b[0m\u001b[0;34m\u001b[0m\u001b[0m\n\u001b[1;32m     97\u001b[0m         \u001b[0mprev_state\u001b[0m \u001b[0;34m=\u001b[0m \u001b[0mself\u001b[0m\u001b[0;34m.\u001b[0m\u001b[0mstate\u001b[0m\u001b[0;34m.\u001b[0m\u001b[0mcopy\u001b[0m\u001b[0;34m(\u001b[0m\u001b[0;34m)\u001b[0m\u001b[0;34m\u001b[0m\u001b[0;34m\u001b[0m\u001b[0m\n\u001b[0;32m---> 98\u001b[0;31m         \u001b[0mself\u001b[0m\u001b[0;34m.\u001b[0m\u001b[0mstate\u001b[0m \u001b[0;34m=\u001b[0m \u001b[0mself\u001b[0m\u001b[0;34m.\u001b[0m\u001b[0mmotion_model\u001b[0m\u001b[0;34m.\u001b[0m\u001b[0mstep\u001b[0m\u001b[0;34m(\u001b[0m\u001b[0mprev_state\u001b[0m\u001b[0;34m,\u001b[0m \u001b[0maction\u001b[0m\u001b[0;34m)\u001b[0m\u001b[0;34m\u001b[0m\u001b[0;34m\u001b[0m\u001b[0m\n\u001b[0m\u001b[1;32m     99\u001b[0m         \u001b[0mobservation\u001b[0m \u001b[0;34m=\u001b[0m \u001b[0mself\u001b[0m\u001b[0;34m.\u001b[0m\u001b[0m_get_obs\u001b[0m\u001b[0;34m(\u001b[0m\u001b[0;34m)\u001b[0m\u001b[0;34m\u001b[0m\u001b[0;34m\u001b[0m\u001b[0m\n\u001b[1;32m    100\u001b[0m \u001b[0;34m\u001b[0m\u001b[0m\n",
            "\u001b[0;32m/usr/local/lib/python3.10/dist-packages/gym_neu_racing/motion_models/unicycle.py\u001b[0m in \u001b[0;36mstep\u001b[0;34m(self, current_state, action, dt)\u001b[0m\n\u001b[1;32m     27\u001b[0m \u001b[0;34m\u001b[0m\u001b[0m\n\u001b[1;32m     28\u001b[0m         \u001b[0;31m# clip the action to be within the control limits\u001b[0m\u001b[0;34m\u001b[0m\u001b[0;34m\u001b[0m\u001b[0m\n\u001b[0;32m---> 29\u001b[0;31m         clipped_action = np.clip(\n\u001b[0m\u001b[1;32m     30\u001b[0m             \u001b[0maction\u001b[0m\u001b[0;34m,\u001b[0m \u001b[0mself\u001b[0m\u001b[0;34m.\u001b[0m\u001b[0maction_space\u001b[0m\u001b[0;34m.\u001b[0m\u001b[0mlow\u001b[0m\u001b[0;34m,\u001b[0m \u001b[0mself\u001b[0m\u001b[0;34m.\u001b[0m\u001b[0maction_space\u001b[0m\u001b[0;34m.\u001b[0m\u001b[0mhigh\u001b[0m\u001b[0;34m\u001b[0m\u001b[0;34m\u001b[0m\u001b[0m\n\u001b[1;32m     31\u001b[0m         )\n",
            "\u001b[0;32m/usr/local/lib/python3.10/dist-packages/numpy/core/overrides.py\u001b[0m in \u001b[0;36mclip\u001b[0;34m(*args, **kwargs)\u001b[0m\n",
            "\u001b[0;32m/usr/local/lib/python3.10/dist-packages/numpy/core/fromnumeric.py\u001b[0m in \u001b[0;36mclip\u001b[0;34m(a, a_min, a_max, out, **kwargs)\u001b[0m\n\u001b[1;32m   2152\u001b[0m \u001b[0;34m\u001b[0m\u001b[0m\n\u001b[1;32m   2153\u001b[0m     \"\"\"\n\u001b[0;32m-> 2154\u001b[0;31m     \u001b[0;32mreturn\u001b[0m \u001b[0m_wrapfunc\u001b[0m\u001b[0;34m(\u001b[0m\u001b[0ma\u001b[0m\u001b[0;34m,\u001b[0m \u001b[0;34m'clip'\u001b[0m\u001b[0;34m,\u001b[0m \u001b[0ma_min\u001b[0m\u001b[0;34m,\u001b[0m \u001b[0ma_max\u001b[0m\u001b[0;34m,\u001b[0m \u001b[0mout\u001b[0m\u001b[0;34m=\u001b[0m\u001b[0mout\u001b[0m\u001b[0;34m,\u001b[0m \u001b[0;34m**\u001b[0m\u001b[0mkwargs\u001b[0m\u001b[0;34m)\u001b[0m\u001b[0;34m\u001b[0m\u001b[0;34m\u001b[0m\u001b[0m\n\u001b[0m\u001b[1;32m   2155\u001b[0m \u001b[0;34m\u001b[0m\u001b[0m\n\u001b[1;32m   2156\u001b[0m \u001b[0;34m\u001b[0m\u001b[0m\n",
            "\u001b[0;32m/usr/local/lib/python3.10/dist-packages/numpy/core/fromnumeric.py\u001b[0m in \u001b[0;36m_wrapfunc\u001b[0;34m(obj, method, *args, **kwds)\u001b[0m\n\u001b[1;32m     52\u001b[0m     \u001b[0mbound\u001b[0m \u001b[0;34m=\u001b[0m \u001b[0mgetattr\u001b[0m\u001b[0;34m(\u001b[0m\u001b[0mobj\u001b[0m\u001b[0;34m,\u001b[0m \u001b[0mmethod\u001b[0m\u001b[0;34m,\u001b[0m \u001b[0;32mNone\u001b[0m\u001b[0;34m)\u001b[0m\u001b[0;34m\u001b[0m\u001b[0;34m\u001b[0m\u001b[0m\n\u001b[1;32m     53\u001b[0m     \u001b[0;32mif\u001b[0m \u001b[0mbound\u001b[0m \u001b[0;32mis\u001b[0m \u001b[0;32mNone\u001b[0m\u001b[0;34m:\u001b[0m\u001b[0;34m\u001b[0m\u001b[0;34m\u001b[0m\u001b[0m\n\u001b[0;32m---> 54\u001b[0;31m         \u001b[0;32mreturn\u001b[0m \u001b[0m_wrapit\u001b[0m\u001b[0;34m(\u001b[0m\u001b[0mobj\u001b[0m\u001b[0;34m,\u001b[0m \u001b[0mmethod\u001b[0m\u001b[0;34m,\u001b[0m \u001b[0;34m*\u001b[0m\u001b[0margs\u001b[0m\u001b[0;34m,\u001b[0m \u001b[0;34m**\u001b[0m\u001b[0mkwds\u001b[0m\u001b[0;34m)\u001b[0m\u001b[0;34m\u001b[0m\u001b[0;34m\u001b[0m\u001b[0m\n\u001b[0m\u001b[1;32m     55\u001b[0m \u001b[0;34m\u001b[0m\u001b[0m\n\u001b[1;32m     56\u001b[0m     \u001b[0;32mtry\u001b[0m\u001b[0;34m:\u001b[0m\u001b[0;34m\u001b[0m\u001b[0;34m\u001b[0m\u001b[0m\n",
            "\u001b[0;32m/usr/local/lib/python3.10/dist-packages/numpy/core/fromnumeric.py\u001b[0m in \u001b[0;36m_wrapit\u001b[0;34m(obj, method, *args, **kwds)\u001b[0m\n\u001b[1;32m     41\u001b[0m     \u001b[0;32mexcept\u001b[0m \u001b[0mAttributeError\u001b[0m\u001b[0;34m:\u001b[0m\u001b[0;34m\u001b[0m\u001b[0;34m\u001b[0m\u001b[0m\n\u001b[1;32m     42\u001b[0m         \u001b[0mwrap\u001b[0m \u001b[0;34m=\u001b[0m \u001b[0;32mNone\u001b[0m\u001b[0;34m\u001b[0m\u001b[0;34m\u001b[0m\u001b[0m\n\u001b[0;32m---> 43\u001b[0;31m     \u001b[0mresult\u001b[0m \u001b[0;34m=\u001b[0m \u001b[0mgetattr\u001b[0m\u001b[0;34m(\u001b[0m\u001b[0masarray\u001b[0m\u001b[0;34m(\u001b[0m\u001b[0mobj\u001b[0m\u001b[0;34m)\u001b[0m\u001b[0;34m,\u001b[0m \u001b[0mmethod\u001b[0m\u001b[0;34m)\u001b[0m\u001b[0;34m(\u001b[0m\u001b[0;34m*\u001b[0m\u001b[0margs\u001b[0m\u001b[0;34m,\u001b[0m \u001b[0;34m**\u001b[0m\u001b[0mkwds\u001b[0m\u001b[0;34m)\u001b[0m\u001b[0;34m\u001b[0m\u001b[0;34m\u001b[0m\u001b[0m\n\u001b[0m\u001b[1;32m     44\u001b[0m     \u001b[0;32mif\u001b[0m \u001b[0mwrap\u001b[0m\u001b[0;34m:\u001b[0m\u001b[0;34m\u001b[0m\u001b[0;34m\u001b[0m\u001b[0m\n\u001b[1;32m     45\u001b[0m         \u001b[0;32mif\u001b[0m \u001b[0;32mnot\u001b[0m \u001b[0misinstance\u001b[0m\u001b[0;34m(\u001b[0m\u001b[0mresult\u001b[0m\u001b[0;34m,\u001b[0m \u001b[0mmu\u001b[0m\u001b[0;34m.\u001b[0m\u001b[0mndarray\u001b[0m\u001b[0;34m)\u001b[0m\u001b[0;34m:\u001b[0m\u001b[0;34m\u001b[0m\u001b[0;34m\u001b[0m\u001b[0m\n",
            "\u001b[0;32m/usr/local/lib/python3.10/dist-packages/numpy/core/_methods.py\u001b[0m in \u001b[0;36m_clip\u001b[0;34m(a, min, max, out, casting, **kwargs)\u001b[0m\n\u001b[1;32m    158\u001b[0m             um.maximum, a, min, out=out, casting=casting, **kwargs)\n\u001b[1;32m    159\u001b[0m     \u001b[0;32melse\u001b[0m\u001b[0;34m:\u001b[0m\u001b[0;34m\u001b[0m\u001b[0;34m\u001b[0m\u001b[0m\n\u001b[0;32m--> 160\u001b[0;31m         return _clip_dep_invoke_with_casting(\n\u001b[0m\u001b[1;32m    161\u001b[0m             um.clip, a, min, max, out=out, casting=casting, **kwargs)\n\u001b[1;32m    162\u001b[0m \u001b[0;34m\u001b[0m\u001b[0m\n",
            "\u001b[0;32m/usr/local/lib/python3.10/dist-packages/numpy/core/_methods.py\u001b[0m in \u001b[0;36m_clip_dep_invoke_with_casting\u001b[0;34m(ufunc, out, casting, *args, **kwargs)\u001b[0m\n\u001b[1;32m    112\u001b[0m     \u001b[0;31m# try to deal with broken casting rules\u001b[0m\u001b[0;34m\u001b[0m\u001b[0;34m\u001b[0m\u001b[0m\n\u001b[1;32m    113\u001b[0m     \u001b[0;32mtry\u001b[0m\u001b[0;34m:\u001b[0m\u001b[0;34m\u001b[0m\u001b[0;34m\u001b[0m\u001b[0m\n\u001b[0;32m--> 114\u001b[0;31m         \u001b[0;32mreturn\u001b[0m \u001b[0mufunc\u001b[0m\u001b[0;34m(\u001b[0m\u001b[0;34m*\u001b[0m\u001b[0margs\u001b[0m\u001b[0;34m,\u001b[0m \u001b[0mout\u001b[0m\u001b[0;34m=\u001b[0m\u001b[0mout\u001b[0m\u001b[0;34m,\u001b[0m \u001b[0;34m**\u001b[0m\u001b[0mkwargs\u001b[0m\u001b[0;34m)\u001b[0m\u001b[0;34m\u001b[0m\u001b[0;34m\u001b[0m\u001b[0m\n\u001b[0m\u001b[1;32m    115\u001b[0m     \u001b[0;32mexcept\u001b[0m \u001b[0m_exceptions\u001b[0m\u001b[0;34m.\u001b[0m\u001b[0m_UFuncOutputCastingError\u001b[0m \u001b[0;32mas\u001b[0m \u001b[0me\u001b[0m\u001b[0;34m:\u001b[0m\u001b[0;34m\u001b[0m\u001b[0;34m\u001b[0m\u001b[0m\n\u001b[1;32m    116\u001b[0m         \u001b[0;31m# Numpy 1.17.0, 2019-02-24\u001b[0m\u001b[0;34m\u001b[0m\u001b[0;34m\u001b[0m\u001b[0m\n",
            "\u001b[0;31mTypeError\u001b[0m: '>=' not supported between instances of 'NoneType' and 'float'"
          ]
        },
        {
          "output_type": "display_data",
          "data": {
            "text/plain": [
              "<Figure size 640x480 with 1 Axes>"
            ],
            "image/png": "[encoded data removed]"
          },
          "metadata": {}
        }
      ],
      "source": [
        "seed = 0\n",
        "num_laps = 3\n",
        "planner_class = BetterPlanner\n",
        "run_planner_on_racetrack(\n",
        "    env, planner_class=planner_class, seed=seed, num_laps=num_laps\n",
        ")"
      ]
    },
    {
      "cell_type": "markdown",
      "metadata": {
        "id": "wmxfA9IOr3oO"
      },
      "source": [
        "# Problem 2: Trajectory Optimization with `cvxpy`"
      ]
    },
    {
      "cell_type": "markdown",
      "metadata": {
        "id": "9qyLx6u_sQoU"
      },
      "source": [
        "## 2a) Double Integrator: Initial & Terminal Conditions"
      ]
    },
    {
      "cell_type": "markdown",
      "metadata": {
        "id": "WwwMyELypADw"
      },
      "source": [
        "For this problem, you'll use the 2D discrete-time double integrator dynamics, where $$\\mathbf{x}[t] = \\begin{bmatrix}\n",
        "x[t]\\\\\n",
        "y[t]\\\\\n",
        "v_x[t]\\\\\n",
        "v_y[t]\\\\\n",
        "\\end{bmatrix}, \\quad \\mathbf{u}[t] = \\begin{bmatrix} a_x[t]\\\\ a_y[t]\\\\ \\end{bmatrix}, \\quad \\mathbf{x}[t+dt] = A \\mathbf{x}[t] +  B \\mathbf{u}[t], \\quad A = \\begin{bmatrix}\n",
        "1 & 0 & dt & 0 \\\\\n",
        "0 & 1 & 0 & dt \\\\\n",
        "0 & 0 & 1 & 0 \\\\\n",
        "0 & 0 & 0 & 1 \\\\\n",
        "\\end{bmatrix}, \\quad B = \\begin{bmatrix}\n",
        "\\frac{dt^2}{2} & 0 \\\\\n",
        "0 & \\frac{dt^2}{2} \\\\\n",
        "dt & 0 \\\\\n",
        "0 & dt \\\\\n",
        "\\end{bmatrix}.\n",
        "$$\n",
        "\n",
        "You should turn the following optimization problem into code:\n",
        "\n",
        "$$\n",
        "\\begin{align}\n",
        "\\min_{x_{0:T}, u_{0:T}}\\quad & (x[T] - g_x)^2 + (y[T] - g_y)^2 \\\\\n",
        "\\text{s.t.}\\quad & \\mathbf{x}[t+1] = A \\mathbf{x}[t] + B \\mathbf{u}[t] \\quad \\forall t \\in \\{0, 1, \\ldots, T-1\\} \\\\\n",
        "& \\mathbf{u}[t] \\in U \\quad \\forall t \\in \\{0, 1, \\ldots, T-1\\} \\\\\n",
        "& \\mathbf{x}[0] = \\mathbf{x}_0 \\\\\n",
        "& v_x[T] = v_{x,T} \\\\\n",
        "& v_x[T] = v_{y,T} \\\\\n",
        "\\end{align}\n",
        "$$\n",
        "\n",
        "with $g_x = 3, g_y=5, v_{x,T}=0, v_{y,T}=0, \\mathbf{x}_0 = [1, 2, 0, 0], U = [-1, 1] \\times [-1, 1], T=10$.\n",
        "\n",
        "**Deliverables**:\n",
        "- Implement `optimize_trajectory`, which will take in initial and terminal conditions, control limits, dt, and return the optimal sequence of states (i.e., an array of shape (T+1, 4) -- T+1 timesteps (T timesteps + the initial state) and 4 states per timestep)\n",
        "- Generate a plot of your optimal trajectory. You are welcome to use the `plot_trajectory` function or write your own version."
      ]
    },
    {
      "cell_type": "code",
      "execution_count": 20,
      "metadata": {
        "id": "MgHEnGozoeUD"
      },
      "outputs": [],
      "source": [
        "def optimize_trajectory(\n",
        "    initial_pos: np.ndarray,\n",
        "    initial_vel: np.ndarray,\n",
        "    goal_pos: np.ndarray,\n",
        "    goal_vel: np.ndarray,\n",
        "    u_limits: np.ndarray,\n",
        "    dt: float,\n",
        ") -> np.ndarray:\n",
        "    \"\"\" Your implementation here\"\"\"\n",
        "\n",
        "    T = 10\n",
        "    N = int(T/dt) + 1\n",
        "\n",
        "    # Initializing the matrices\n",
        "    A = np.array([[1, 0, dt, 0],\n",
        "                    [0, 1, 0, dt],\n",
        "                    [0, 0, 1,  0],\n",
        "                    [0, 0, 0,  1]])\n",
        "\n",
        "    B = np.array([[(dt**2)/2, 0],\n",
        "                    [0, (dt**2)/2],\n",
        "                    [dt,        0],\n",
        "                    [0,        dt]])\n",
        "\n",
        "    # Declaring the state variable X and control variable U\n",
        "    X = cp.Variable((4,N+1))\n",
        "    U = cp.Variable((2,N+1))\n",
        "\n",
        "    # Initializing the intial state and the final state\n",
        "    X_0 = np.array([initial_pos[0],initial_pos[1],initial_vel[0],initial_vel[1]])\n",
        "    X_t = np.array([goal_pos[0],goal_pos[1],goal_vel[0],goal_vel[1]])\n",
        "\n",
        "    # Adding the control constraints\n",
        "    constraints = [U[0] >= u_limits[0][0], U[0] <= u_limits[0][1], U[1] >= u_limits[1][0], U[1] <= u_limits[1][1], X[:,0] == X_0]\n",
        "\n",
        "    # for t in range(N):\n",
        "    #   X_current = (A @ X[:,t]) + (B @ U)\n",
        "    #   cost = ((goal_pos[0] - X[0,t])**2) + ((goal_pos[1] - X[1,t])**2)\n",
        "    #   # cost = cp.sum_squares(X_t - X_current)\n",
        "    #   prob = cp.Problem(cp.Minimize(cost),constraints)\n",
        "    #   prob.solve()\n",
        "    #   # print(X_current)\n",
        "    #   print(\"U: \", U.value)\n",
        "    #   print(\"X: \",X_current)\n",
        "    #   X[:,t+1] = X_current.value\n",
        "\n",
        "    # Adding each state as dictated by the dynamics as a constraint\n",
        "    for t in range(N):\n",
        "      constraints += [X[:,t+1] == (A @ X[:,t]) + (B @ U[:,t])]\n",
        "\n",
        "    # Adding the final state constraint\n",
        "    constraints += [X[:,-1] == X_t]\n",
        "\n",
        "    # Declaring the cost function and objective\n",
        "    cost = cp.sum_squares(X[0:2] - goal_pos[:,None])\n",
        "    prob = cp.Problem(cp.Minimize(cost),constraints)\n",
        "\n",
        "    # Solving for the variables\n",
        "    prob.solve()\n",
        "\n",
        "    # raise NotImplementedError\n",
        "    return np.transpose(np.array(X.value))\n",
        "\n",
        "\n",
        "def plot_trajectory(xt: np.ndarray) -> None:\n",
        "\n",
        "    # Feel free to add to this\n",
        "\n",
        "    plt.plot(xt[:, 0], xt[:, 1], \"-x\")\n",
        "    plt.axis(\"equal\")\n",
        "    plt.show()"
      ]
    },
    {
      "cell_type": "markdown",
      "metadata": {
        "id": "1q1bRwpi2cWu"
      },
      "source": [
        "You can check whether your code works using"
      ]
    },
    {
      "cell_type": "code",
      "execution_count": 19,
      "metadata": {
        "id": "tWoRpQs3t2iQ",
        "colab": {
          "base_uri": "https://localhost:8080/",
          "height": 430
        },
        "outputId": "9aa8ebad-6d61-44cc-8881-259ff94fa4d8"
      },
      "outputs": [
        {
          "output_type": "display_data",
          "data": {
            "text/plain": [
              "<Figure size 640x480 with 1 Axes>"
            ],
            "image/png": "[encoded data removed]"
          },
          "metadata": {}
        }
      ],
      "source": [
        "initial_pos = np.array([1.0, 2.0])\n",
        "initial_vel = np.array([0.0, 0.0])\n",
        "goal_pos = np.array([3.0, 5.0])\n",
        "goal_vel = np.array([0.0, 0.0])\n",
        "u_limits = 0.2 * np.array([[-1.0, 1.0], [-1.0, 1.0]])\n",
        "dt = 1.0\n",
        "\n",
        "optimal_xt = optimize_trajectory(\n",
        "    initial_pos,\n",
        "    initial_vel,\n",
        "    goal_pos,\n",
        "    goal_vel,\n",
        "    u_limits,\n",
        "    dt,\n",
        ")\n",
        "\n",
        "plot_trajectory(optimal_xt)"
      ]
    },
    {
      "cell_type": "markdown",
      "metadata": {
        "id": "WGWONpFmHz6G"
      },
      "source": [
        "## [Extra Credit] 2b) Incorporate obstacle avoidance as a convex optimization problem"
      ]
    },
    {
      "cell_type": "markdown",
      "metadata": {
        "id": "DV64hIZMIB_i"
      },
      "source": [
        "Now, you should extend your optimization code to handle a list of circular obstacles that the double integrator must avoid. We would like you to try to keep this as a convex optimization problem. If you just start adding constraints and costs, you will likely end up with a non-convex optimization problem, which are generally hard to solve.\n",
        "\n",
        "One possible way to keep the problem convex could be to break the free (i.e., non-obstacle) space into a set of convex regions, then split the trajectory into multiple segments (each one needing to stay within one convex region). But, there could be many other ways, and you are encouraged to try different strategies!\n"
      ]
    },
    {
      "cell_type": "code",
      "execution_count": null,
      "metadata": {
        "id": "BJybm9RcG2qL"
      },
      "outputs": [],
      "source": [
        "def optimize_trajectory_with_obstacles(\n",
        "    initial_pos: np.ndarray,\n",
        "    initial_vel: np.ndarray,\n",
        "    goal_pos: np.ndarray,\n",
        "    goal_vel: np.ndarray,\n",
        "    u_limits: np.ndarray,\n",
        "    dt: float,\n",
        "    obstacles: list,\n",
        ") -> np.ndarray:\n",
        "\n",
        "    \"\"\" Your implementation here\"\"\"\n",
        "    raise NotImplementedError\n",
        "    return states\n",
        "\n",
        "\n",
        "def plot_trajectory_with_obstacles(\n",
        "    xt: np.ndarray,\n",
        "    obstacles: list[np.ndarray],\n",
        ") -> None:\n",
        "\n",
        "    # Feel free to add to this\n",
        "\n",
        "    fig, ax = plt.subplots()\n",
        "    plt.plot(xt[:, 0], xt[:, 1], \"-x\")\n",
        "    for obstacle in obstacles:\n",
        "        ax.add_patch(plt.Circle(obstacle[0:2], obstacle[2], color=\"r\"))\n",
        "    plt.axis(\"equal\")\n",
        "    plt.show()"
      ]
    },
    {
      "cell_type": "code",
      "execution_count": null,
      "metadata": {
        "id": "-klRF2tt0quK"
      },
      "outputs": [],
      "source": [
        "initial_pos = np.array([1.0, 2.0])\n",
        "initial_vel = np.array([0.0, 0.0])\n",
        "goal_pos = np.array([3.0, 5.0])\n",
        "goal_vel = np.array([0.0, 0.0])\n",
        "u_limits = 0.2 * np.array([[-1.0, 1.0], [-1.0, 1.0]])\n",
        "dt = 1.0\n",
        "\n",
        "obstacles = [\n",
        "    (1.5, 2.5, 0.5),\n",
        "    (2.0, 3.5, 0.25),\n",
        "    (2.5, 4.0, 0.5),\n",
        "]\n",
        "\n",
        "optimal_xt = optimize_trajectory_with_obstacles(\n",
        "    initial_pos,\n",
        "    initial_vel,\n",
        "    goal_pos,\n",
        "    goal_vel,\n",
        "    u_limits,\n",
        "    dt,\n",
        "    obstacles,\n",
        ")\n",
        "\n",
        "plot_trajectory_with_obstacles(optimal_xt, obstacles)"
      ]
    }
  ],
  "metadata": {
    "colab": {
      "collapsed_sections": [
        "l5Q-SupywN0g",
        "TKUvYLxpv2p4",
        "wmxfA9IOr3oO"
      ],
      "provenance": [],
      "include_colab_link": true
    },
    "kernelspec": {
      "display_name": "Python 3",
      "name": "python3"
    },
    "language_info": {
      "name": "python"
    }
  },
  "nbformat": 4,
  "nbformat_minor": 0
}